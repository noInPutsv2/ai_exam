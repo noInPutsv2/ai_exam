{
 "cells": [
  {
   "cell_type": "markdown",
   "id": "fa665265-b4d0-48be-a467-0f46d1ef6c13",
   "metadata": {},
   "source": [
    "## Set up"
   ]
  },
  {
   "cell_type": "code",
   "execution_count": 3,
   "id": "a27f7570-f0f9-4944-8807-5885575e559b",
   "metadata": {},
   "outputs": [],
   "source": [
    "import pandas as pd"
   ]
  },
  {
   "cell_type": "code",
   "execution_count": 4,
   "id": "f806e1fa-f49e-45fd-b989-9bdf4a6c272d",
   "metadata": {},
   "outputs": [],
   "source": [
    "import time"
   ]
  },
  {
   "cell_type": "code",
   "execution_count": 5,
   "id": "1309cf7e-3ce3-4488-a079-10c97cb55e96",
   "metadata": {},
   "outputs": [],
   "source": [
    "from langchain.llms import Ollama\n",
    "from langchain_community.chat_models import ChatOllama\n",
    "from langchain.chains import RetrievalQA\n",
    "from langchain.prompts import PromptTemplate"
   ]
  },
  {
   "cell_type": "code",
   "execution_count": 6,
   "id": "5b0155af-2755-4853-85f4-3c6fb4b5dbc5",
   "metadata": {},
   "outputs": [],
   "source": [
    "from langchain.vectorstores import Chroma\n",
    "from langchain.callbacks.manager import CallbackManager\n",
    "from langchain.callbacks.streaming_stdout import StreamingStdOutCallbackHandler"
   ]
  },
  {
   "cell_type": "code",
   "execution_count": 7,
   "id": "175587e8-0ed2-4476-b3ab-c4f8e6a1ae76",
   "metadata": {},
   "outputs": [],
   "source": [
    "from langchain.embeddings import HuggingFaceEmbeddings"
   ]
  },
  {
   "cell_type": "code",
   "execution_count": 8,
   "id": "55b3434d-9fcc-4485-a059-63026e56e63d",
   "metadata": {},
   "outputs": [],
   "source": [
    "import importlib\n",
    "import myloadlib\n",
    "import myutils\n",
    "import Vector_database_functions as db"
   ]
  },
  {
   "cell_type": "code",
   "execution_count": 9,
   "id": "2f35c36f-dc12-4756-8e42-bded66d1a489",
   "metadata": {},
   "outputs": [],
   "source": [
    "import ChatTestDB as log\n",
    "import Harry_Potter_questions as HP"
   ]
  },
  {
   "cell_type": "markdown",
   "id": "bf8719ab-b11a-4ede-9cf9-c7ed99d32f05",
   "metadata": {},
   "source": [
    "## Embeddings"
   ]
  },
  {
   "cell_type": "code",
   "execution_count": 10,
   "id": "5e88955d-866f-43ea-8e6b-f5bb6ccb286c",
   "metadata": {},
   "outputs": [],
   "source": [
    "model_name = \"sentence-transformers/all-mpnet-base-v2\"\n",
    "# model_name = \"sentence-transformers/all-MiniLM-l6-v2\"\n",
    "model_kwargs = {'device': 'cpu'}\n",
    "encode_kwargs = {'normalize_embeddings': False}"
   ]
  },
  {
   "cell_type": "code",
   "execution_count": 11,
   "id": "a9d776c9-a297-46d5-ad47-df47238b2f9f",
   "metadata": {},
   "outputs": [],
   "source": [
    "embeddings = HuggingFaceEmbeddings(\n",
    "    model_name=model_name,\n",
    "    model_kwargs=model_kwargs,\n",
    "    encode_kwargs=encode_kwargs\n",
    ")"
   ]
  },
  {
   "cell_type": "markdown",
   "id": "967795bc-081a-40bb-8e30-bda9b2a3283d",
   "metadata": {},
   "source": [
    "## Get data"
   ]
  },
  {
   "cell_type": "code",
   "execution_count": 12,
   "id": "6e141d6b-3cc9-4f83-9ffe-b59e4c7dba93",
   "metadata": {},
   "outputs": [],
   "source": [
    "#get databasen\n",
    "vectordb = db.get_db( \"Harry_Potter\", \"data/Chroma/\", embeddings)"
   ]
  },
  {
   "cell_type": "code",
   "execution_count": 13,
   "id": "53401561-5192-481b-b1e0-c5b308483b88",
   "metadata": {},
   "outputs": [
    {
     "data": {
      "text/plain": [
       "958318"
      ]
     },
     "execution_count": 13,
     "metadata": {},
     "output_type": "execute_result"
    }
   ],
   "source": [
    "len(vectordb)"
   ]
  },
  {
   "cell_type": "markdown",
   "id": "d95fa0f0-e9bd-4dd0-bbe2-86e9dbefbf9f",
   "metadata": {},
   "source": [
    "# LLM"
   ]
  },
  {
   "cell_type": "code",
   "execution_count": null,
   "id": "79844064-168a-4bce-b08f-4ad940639ec9",
   "metadata": {},
   "outputs": [],
   "source": [
    "# We have tried with diffirent models"
   ]
  },
  {
   "cell_type": "code",
   "execution_count": null,
   "id": "7a492130-8956-4245-95d1-26e544f95049",
   "metadata": {},
   "outputs": [],
   "source": [
    "#llm = Ollama(model=\"gemma\", callback_manager = CallbackManager([StreamingStdOutCallbackHandler()]))"
   ]
  },
  {
   "cell_type": "code",
   "execution_count": null,
   "id": "2ce28a79-d61d-4cd9-97d6-b49b4c44c587",
   "metadata": {},
   "outputs": [],
   "source": [
    "#llm = Ollama(model=\"zephyr\", callback_manager = CallbackManager([StreamingStdOutCallbackHandler()]))"
   ]
  },
  {
   "cell_type": "code",
   "execution_count": 39,
   "id": "251c4bfa-0a66-41a0-869c-4baa27b9a316",
   "metadata": {},
   "outputs": [],
   "source": [
    "#llm = Ollama(model=\"llama3\", callback_manager = CallbackManager([StreamingStdOutCallbackHandler()]))"
   ]
  },
  {
   "cell_type": "code",
   "execution_count": 44,
   "id": "821982d4-58a2-4ee2-85a6-6025ca4e109e",
   "metadata": {},
   "outputs": [],
   "source": [
    "#llm = Ollama(model=\"mistral\", callback_manager = CallbackManager([StreamingStdOutCallbackHandler()]))"
   ]
  },
  {
   "cell_type": "code",
   "execution_count": 47,
   "id": "399c1cac-1145-4f76-831b-6da8b0673acf",
   "metadata": {},
   "outputs": [],
   "source": [
    "#llm = ChatOllama(model=\"mistral\")"
   ]
  },
  {
   "cell_type": "code",
   "execution_count": 12,
   "id": "9416598d-fa82-4f00-bc5f-25cf38b52090",
   "metadata": {},
   "outputs": [],
   "source": [
    "llm = ChatOllama(model=\"llama3\")"
   ]
  },
  {
   "cell_type": "code",
   "execution_count": 13,
   "id": "27f40768-593d-42e9-b79a-c87d453cb1b3",
   "metadata": {},
   "outputs": [],
   "source": [
    "#llm = ChatOllama(model=\"tomasonjo/llama3-text2cypher-demo\")"
   ]
  },
  {
   "cell_type": "code",
   "execution_count": 14,
   "id": "51f26e1e-8f06-49ec-80d4-3e58a560f547",
   "metadata": {},
   "outputs": [],
   "source": [
    "# Build prompt\n",
    "template = \"\"\"Use the following pieces of context to answer the question at the end. \n",
    "If you don't know the answer, just say that you don't know, don't try to make up an answer. \n",
    "Use five sentences maximum. Keep the answer as concise as possible. \n",
    "Always say \"thanks for asking!\" at the end of the answer. \n",
    "\n",
    "{context}\n",
    "\n",
    "Question: {question}\n",
    "\n",
    "Helpful Answer:\n",
    "\"\"\""
   ]
  },
  {
   "cell_type": "code",
   "execution_count": 23,
   "id": "fb852182-9093-4078-949c-e2818f2eab63",
   "metadata": {},
   "outputs": [],
   "source": [
    "question = \"what is harry potters wand?\""
   ]
  },
  {
   "cell_type": "code",
   "execution_count": null,
   "id": "77bd0cb5-3b65-4f9c-a7e8-c0ff08c87848",
   "metadata": {},
   "outputs": [],
   "source": [
    "question = \"which hogwarts house does Harry belong to?\""
   ]
  },
  {
   "cell_type": "code",
   "execution_count": null,
   "id": "36e60c52-52e0-4cf9-bb63-5d7a8cbedf8c",
   "metadata": {},
   "outputs": [],
   "source": [
    "question = \"who is Merope Gaunt?\""
   ]
  },
  {
   "cell_type": "code",
   "execution_count": 16,
   "id": "26cb636f-086f-4d08-81af-69d3b72323f1",
   "metadata": {},
   "outputs": [],
   "source": [
    "question = \"who is Merope Gaunts son?\""
   ]
  },
  {
   "cell_type": "raw",
   "id": "4171d984-3da4-4e82-8735-a6fdab8509ff",
   "metadata": {},
   "source": [
    "Time test:\n",
    "question: \"who is Merope Gaunts son?\"\n",
    "ChatOllama llama3: 2.0705467462539673 \"I don't know who Merope Gaunt's son is. Thanks for asking!\"\n",
    "ChatOllama Mistral: 5.8491374532381695 \" Merope Gaunt is a character from the Harry Potter series, specifically mentioned in \"Harry Potter and the Deathly Hallows,\" but she does not have a named son. She is the mother of Slytherin founder Salazar Slytherin and the paternal grandmother of Voldemort. Thanks for asking!\"\n",
    "ChatOllama tomasonjo/llama3-text2cypher-demo: 3.183690361181895 \"According to the context, Merope Gaunt's son is none other than Quentin Coldwater. Thanks for asking!\"\n",
    "Ollama Mistral: 13.608748189608256 \" Merope Gaunt is not known to have any recorded sons in the Harry Potter series by J.K. Rowling. She is primarily remembered for being one of the Gaunt family members, and specifically for her role in providing the Horcrux locket to Tom Riddle (later Voldemort) that contained a fragment of his soul. Thanks for asking!\"\n",
    "Ollama llama3: 13.599766770998636 \"I don't know the specific information about Merope Gaunt's family, but according to J.K. Rowling's Harry Potter series, Merope Gaunt is a witch and the mother of Morfin and Marvolo Gaunt. Morfin Gaunt is actually the father of Tom Riddle (later known as Lord Voldemort). Thanks for asking!\""
   ]
  },
  {
   "cell_type": "code",
   "execution_count": 48,
   "id": "716025d5-f695-4aa8-862d-1a2db7b17929",
   "metadata": {},
   "outputs": [],
   "source": [
    "prompt = PromptTemplate.from_template(template)\n",
    "chain = RetrievalQA.from_chain_type(\n",
    "    llm,\n",
    "    retriever=vectordb.as_retriever(),\n",
    "    return_source_documents=True,\n",
    "    chain_type_kwargs={\"prompt\": prompt})"
   ]
  },
  {
   "cell_type": "code",
   "execution_count": 49,
   "id": "2a0486bf-026f-41e3-bd92-842b9c959c74",
   "metadata": {},
   "outputs": [
    {
     "name": "stdout",
     "output_type": "stream",
     "text": [
      " Merope Gaunt is the sister of Morfin Gaunt and Aristina Gaunt in the Harry Potter series. She married a Muggle, Tom Riddle senior, giving birth to their son, Tom Marvolo Riddle, later known as Lord Voldemort. (Thanks for asking!)\n",
      "13.340355932712555\n"
     ]
    }
   ],
   "source": [
    "start = time.time()\n",
    "result = chain.invoke({\"query\": question})\n",
    "end = time.time()\n",
    "print(result[\"result\"])\n",
    "print((end - start)/60)"
   ]
  },
  {
   "cell_type": "code",
   "execution_count": 19,
   "id": "5a679d15-b303-46e4-bb99-0d3bc71030cd",
   "metadata": {},
   "outputs": [],
   "source": [
    "from langchain_core.output_parsers import StrOutputParser\n",
    "from langchain_core.runnables import RunnablePassthrough"
   ]
  },
  {
   "cell_type": "raw",
   "id": "33eba9f5-8fa2-4f60-b3aa-4ebd71a8f30c",
   "metadata": {},
   "source": [
    "Time test:\n",
    "question: \"who is Merope Gaunts son?\"\n",
    "ChatOllama llama3: 9.631982425848642 \"According to the context, Tom Riddle Senior was married to Merope Gaunt and her son is Marvolo Gaunt. Thanks for asking!\"\n",
    "ChatOllama Mistral: 8.670980298519135 \"Tom Riddle, also known as Voldemort, is the son of Merope Gaunt. They were married under magical coercion, likely by Merope to ensure the pure bloodline for her unborn child. (References: All given documents) Thanks for asking!\"\n",
    "ChatOllama tomasonjo/llama3-text2cypher-demo: 5.144469670454661 \"Merope Gaunt's son is Tom Riddle Senior, also known as the father of Lord Voldemort. Thanks for asking!\"\n",
    "Ollama Mistral: 13.349658449490866 \"Tom Riddle, also known as Voldemort, is the son of Merope Gaunt. He was forcibly married to Merope by unknown means. Thanks for asking!\"\n",
    "Ollama llama3: 11.971413230895996 \"Merope Gaunt's son is Marvolo Gaunt. Thanks for asking!Merope Gaunt's son is Marvolo Gaunt. Thanks for asking!\""
   ]
  },
  {
   "cell_type": "code",
   "execution_count": 42,
   "id": "ada419c6-f4fb-4a9c-bbce-d6f23a6fddbc",
   "metadata": {},
   "outputs": [],
   "source": [
    "rag_chain = (\n",
    "    {\"context\": vectordb.as_retriever(), \"question\": RunnablePassthrough()}\n",
    "    | prompt\n",
    "    | llm\n",
    "    | StrOutputParser()\n",
    ")"
   ]
  },
  {
   "cell_type": "code",
   "execution_count": 43,
   "id": "5eae1a08-d595-461a-a527-59f36c34e896",
   "metadata": {},
   "outputs": [
    {
     "name": "stdout",
     "output_type": "stream",
     "text": [
      "Merope Gaunt's son is Marvolo Gaunt. Thanks for asking!Merope Gaunt's son is Marvolo Gaunt. Thanks for asking!\n",
      "11.971413230895996\n"
     ]
    }
   ],
   "source": [
    "start = time.time()\n",
    "result = rag_chain.invoke(question)\n",
    "end = time.time()\n",
    "print(result)\n",
    "print((end - start)/60)"
   ]
  },
  {
   "cell_type": "markdown",
   "id": "07c54a9d-058d-48b2-b127-5218b27a4725",
   "metadata": {},
   "source": [
    "# Test of awnsers"
   ]
  },
  {
   "cell_type": "code",
   "execution_count": 15,
   "id": "49dd524d-dc44-411a-b48c-6c8e2868666b",
   "metadata": {},
   "outputs": [],
   "source": [
    "prompt = PromptTemplate.from_template(template)\n",
    "chain = RetrievalQA.from_chain_type(\n",
    "    llm,\n",
    "    retriever=vectordb.as_retriever(),\n",
    "    return_source_documents=True,\n",
    "    chain_type_kwargs={\"prompt\": prompt})"
   ]
  },
  {
   "cell_type": "code",
   "execution_count": 37,
   "id": "59071562-54d3-406b-89dd-c5b25b660ccb",
   "metadata": {},
   "outputs": [
    {
     "name": "stdout",
     "output_type": "stream",
     "text": [
      "According to the LEGO Harry Potter series, Harry Potter's wand is described as being made of holly wood with a phoenix feather core. Thanks for asking!\n",
      "4.723734839757284\n"
     ]
    }
   ],
   "source": [
    "start = time.time()\n",
    "result = chain.invoke({\"query\": HP.question1})\n",
    "end = time.time()\n",
    "times = (end - start)/60\n",
    "log.LogChat(2, \"vector\", HP.question1, result['result'], times)\n",
    "print(result[\"result\"])\n",
    "print(times)"
   ]
  },
  {
   "cell_type": "code",
   "execution_count": 38,
   "id": "39c2e970-38da-4200-985d-4339e4d1124d",
   "metadata": {},
   "outputs": [
    {
     "name": "stdout",
     "output_type": "stream",
     "text": [
      "According to the context, there is no mention of Harry Potter's Hogwarts house being discussed. However, we do know that Jacob's sibling chooses their own Hogwarts house, and Harry and Ginevra Potter's house is mentioned as having a connection to Hogwarts.\n",
      "\n",
      "I don't know the answer to this specific question.\n",
      "\n",
      "Thanks for asking!\n",
      "3.929632031917572\n"
     ]
    }
   ],
   "source": [
    "start = time.time()\n",
    "result = chain.invoke({\"query\": HP.question2})\n",
    "end = time.time()\n",
    "times = (end - start)/60\n",
    "log.LogChat(2, \"vector\", HP.question2, result['result'], times)\n",
    "print(result[\"result\"])\n",
    "print(times)"
   ]
  },
  {
   "cell_type": "code",
   "execution_count": 39,
   "id": "b2303ebc-44e5-4caa-b892-eb54b15c8967",
   "metadata": {},
   "outputs": [
    {
     "name": "stdout",
     "output_type": "stream",
     "text": [
      "Merope Gaunt was Bellatrix Lestrange's mother. She was a witch who had an affair with Marvolo Gaunt and had Bellatrix as a result. Thanks for asking!\n",
      "0.8534922003746033\n"
     ]
    }
   ],
   "source": [
    "start = time.time()\n",
    "result = chain.invoke({\"query\": HP.question3})\n",
    "end = time.time()\n",
    "times = (end - start)/60\n",
    "log.LogChat(2, \"vector\", HP.question3, result['result'], times)\n",
    "print(result[\"result\"])\n",
    "print(times)"
   ]
  },
  {
   "cell_type": "code",
   "execution_count": 40,
   "id": "fd0fdd1b-9042-4cfe-9461-059129e01218",
   "metadata": {},
   "outputs": [
    {
     "name": "stdout",
     "output_type": "stream",
     "text": [
      "I don't know who Merope Gaunt's son is. The context provided does not mention any information about her children or their names. Thanks for asking!\n",
      "0.8249166250228882\n"
     ]
    }
   ],
   "source": [
    "start = time.time()\n",
    "result = chain.invoke({\"query\": HP.question4})\n",
    "end = time.time()\n",
    "times = (end - start)/60\n",
    "log.LogChat(2, \"vector\", HP.question4, result['result'], times)\n",
    "print(result[\"result\"])\n",
    "print(times)"
   ]
  },
  {
   "cell_type": "code",
   "execution_count": 41,
   "id": "7df9bced-72c2-4839-a02b-2c7f365152ba",
   "metadata": {},
   "outputs": [
    {
     "name": "stdout",
     "output_type": "stream",
     "text": [
      "Fred and Griphook, two of Harry's friends, created the Marauder's Map.\n",
      "\n",
      "Thanks for asking!\n",
      "0.6314687887827556\n"
     ]
    }
   ],
   "source": [
    "start = time.time()\n",
    "result = chain.invoke({\"query\": HP.question5})\n",
    "end = time.time()\n",
    "times = (end - start)/60\n",
    "log.LogChat(2, \"vector\", HP.question5, result['result'], times)\n",
    "print(result[\"result\"])\n",
    "print(times)"
   ]
  },
  {
   "cell_type": "code",
   "execution_count": 42,
   "id": "e6acab02-a4e1-4359-ba7c-eaee8b930833",
   "metadata": {},
   "outputs": [
    {
     "name": "stdout",
     "output_type": "stream",
     "text": [
      "The Half-Blood Prince refers to Severus Snape, a complex and intriguing character in the Harry Potter series. He is known for being a potions master at Hogwarts School of Witchcraft and Wizardry. Snape's mother was a witch, while his father was a Muggle (non-magical) person, making him a half-blood. His true loyalties are gradually revealed throughout the series. Thanks for asking!\n",
      "1.670889186859131\n"
     ]
    }
   ],
   "source": [
    "start = time.time()\n",
    "result = chain.invoke({\"query\": HP.question6})\n",
    "end = time.time()\n",
    "times = (end - start)/60\n",
    "log.LogChat(2, \"vector\", HP.question6, result['result'], times)\n",
    "print(result[\"result\"])\n",
    "print(times)"
   ]
  },
  {
   "cell_type": "code",
   "execution_count": 43,
   "id": "42ec6d9f-c488-431f-800e-b906ca9bd212",
   "metadata": {},
   "outputs": [
    {
     "name": "stdout",
     "output_type": "stream",
     "text": [
      "Unfortunately, I don't know the answer to this question. The context only mentions that someone thought Harry Potter might be the Heir of Slytherin, but it doesn't explicitly state who the Heir actually is. Thanks for asking!\n",
      "1.1389414509137472\n"
     ]
    }
   ],
   "source": [
    "start = time.time()\n",
    "result = chain.invoke({\"query\": HP.question7})\n",
    "end = time.time()\n",
    "times = (end - start)/60\n",
    "log.LogChat(2, \"vector\", HP.question7, result['result'], times)\n",
    "print(result[\"result\"])\n",
    "print(times)"
   ]
  },
  {
   "cell_type": "code",
   "execution_count": 44,
   "id": "afc4c00e-8f14-48c2-9b70-e72de13d29af",
   "metadata": {},
   "outputs": [
    {
     "name": "stdout",
     "output_type": "stream",
     "text": [
      "I don't know the answer. Thanks for asking!\n",
      "2.8390076637268065\n"
     ]
    }
   ],
   "source": [
    "start = time.time()\n",
    "result = chain.invoke({\"query\": HP.question8})\n",
    "end = time.time()\n",
    "times = (end - start)/60\n",
    "log.LogChat(2, \"vector\", HP.question8, result['result'], times)\n",
    "print(result[\"result\"])\n",
    "print(times)"
   ]
  },
  {
   "cell_type": "code",
   "execution_count": 45,
   "id": "4df79c2f-b928-42c4-aafe-b6f2ab05fe91",
   "metadata": {},
   "outputs": [
    {
     "name": "stdout",
     "output_type": "stream",
     "text": [
      "Voldemort created a total of 7 Horcruxes. Thanks for asking!\n",
      "2.5055452227592467\n"
     ]
    }
   ],
   "source": [
    "start = time.time()\n",
    "result = chain.invoke({\"query\": HP.question9})\n",
    "end = time.time()\n",
    "times = (end - start)/60\n",
    "log.LogChat(2, \"vector\", HP.question9, result['result'], times)\n",
    "print(result[\"result\"])\n",
    "print(times)"
   ]
  },
  {
   "cell_type": "code",
   "execution_count": 46,
   "id": "71de8384-fb2d-4065-8c45-fd556c5907b1",
   "metadata": {},
   "outputs": [
    {
     "name": "stdout",
     "output_type": "stream",
     "text": [
      "There are three Deathly Hallows. Thanks for asking!\n",
      "0.32028677463531496\n"
     ]
    }
   ],
   "source": [
    "start = time.time()\n",
    "result = chain.invoke({\"query\": HP.question10})\n",
    "end = time.time()\n",
    "times = (end - start)/60\n",
    "log.LogChat(2, \"vector\", HP.question10, result['result'], times)\n",
    "print(result[\"result\"])\n",
    "print(times)"
   ]
  },
  {
   "cell_type": "code",
   "execution_count": 47,
   "id": "e63e595d-1e2f-4f2b-a565-79f1fd21ed8a",
   "metadata": {},
   "outputs": [
    {
     "name": "stdout",
     "output_type": "stream",
     "text": [
      "The entrance to the Chamber of Secrets is in the second floor bathroom. Thanks for asking!\n",
      "1.3273857951164245\n"
     ]
    }
   ],
   "source": [
    "start = time.time()\n",
    "result = chain.invoke({\"query\": HP.question11})\n",
    "end = time.time()\n",
    "times = (end - start)/60\n",
    "log.LogChat(2, \"vector\", HP.question11, result['result'], times)\n",
    "print(result[\"result\"])\n",
    "print(times)"
   ]
  },
  {
   "cell_type": "code",
   "execution_count": 48,
   "id": "e5584666-affd-45e1-915a-d7478209e360",
   "metadata": {},
   "outputs": [
    {
     "name": "stdout",
     "output_type": "stream",
     "text": [
      "The answer to your question is Dobby. Thanks for asking!\n",
      "0.6381458282470703\n"
     ]
    }
   ],
   "source": [
    "start = time.time()\n",
    "result = chain.invoke({\"query\": HP.question12})\n",
    "end = time.time()\n",
    "times = (end - start)/60\n",
    "log.LogChat(2, \"vector\", HP.question12, result['result'], times)\n",
    "print(result[\"result\"])\n",
    "print(times)"
   ]
  },
  {
   "cell_type": "code",
   "execution_count": 49,
   "id": "bb9e8d82-ef0f-42d9-a616-47d8c03a4867",
   "metadata": {},
   "outputs": [
    {
     "name": "stdout",
     "output_type": "stream",
     "text": [
      "I don't know the answer to this question. Thanks for asking!\n",
      "2.229138954480489\n"
     ]
    }
   ],
   "source": [
    "start = time.time()\n",
    "result = chain.invoke({\"query\": HP.question13})\n",
    "end = time.time()\n",
    "times = (end - start)/60\n",
    "log.LogChat(2, \"vector\", HP.question13, result['result'], times)\n",
    "print(result[\"result\"])\n",
    "print(times)"
   ]
  },
  {
   "cell_type": "code",
   "execution_count": 50,
   "id": "cddc44f5-2006-4c32-aa2a-8c4d9cab0178",
   "metadata": {},
   "outputs": [
    {
     "name": "stdout",
     "output_type": "stream",
     "text": [
      "According to the given context, Sirius Black is Harry Potter's maternal first cousin, once removed. This means that Sirius was a blood relative of Harry's mother, Lily Evans Potter, making him Harry's maternal cousin. Thanks for asking!\n",
      "1.072611649831136\n"
     ]
    }
   ],
   "source": [
    "start = time.time()\n",
    "result = chain.invoke({\"query\": HP.question14})\n",
    "end = time.time()\n",
    "times = (end - start)/60\n",
    "log.LogChat(2, \"vector\", HP.question14, result['result'], times)\n",
    "print(result[\"result\"])\n",
    "print(times)"
   ]
  },
  {
   "cell_type": "code",
   "execution_count": 51,
   "id": "4032af7f-ec29-4be8-9022-eddbde0bdc82",
   "metadata": {},
   "outputs": [
    {
     "name": "stdout",
     "output_type": "stream",
     "text": [
      "The answer is Fluffy. Thanks for asking!\n",
      "2.153825386365255\n"
     ]
    }
   ],
   "source": [
    "start = time.time()\n",
    "result = chain.invoke({\"query\": HP.question15})\n",
    "end = time.time()\n",
    "times = (end - start)/60\n",
    "log.LogChat(2, \"vector\", HP.question15, result['result'], times)\n",
    "print(result[\"result\"])\n",
    "print(times)"
   ]
  },
  {
   "cell_type": "code",
   "execution_count": 52,
   "id": "bbc32c9b-b80b-4904-9db1-045e76bc1983",
   "metadata": {},
   "outputs": [
    {
     "name": "stdout",
     "output_type": "stream",
     "text": [
      "According to the Harry Potter Wiki, the hippogriff that Harry saves from execution is named Buckbeak. Thanks for asking!\n",
      "1.8011456767717997\n"
     ]
    }
   ],
   "source": [
    "start = time.time()\n",
    "result = chain.invoke({\"query\": HP.question16})\n",
    "end = time.time()\n",
    "times = (end - start)/60\n",
    "log.LogChat(2, \"vector\", HP.question16, result['result'], times)\n",
    "print(result[\"result\"])\n",
    "print(times)"
   ]
  },
  {
   "cell_type": "code",
   "execution_count": 53,
   "id": "ed4eea8a-e519-416b-896d-d89cc0ae1f04",
   "metadata": {},
   "outputs": [
    {
     "name": "stdout",
     "output_type": "stream",
     "text": [
      "The ghost of Ravenclaw house is Helena Ravenclaw, the daughter of Rowena Ravenclaw. She is often referred to as \"The White Lady\". Thanks for asking!\n",
      "1.9064854621887206\n"
     ]
    }
   ],
   "source": [
    "start = time.time()\n",
    "result = chain.invoke({\"query\": HP.question17})\n",
    "end = time.time()\n",
    "times = (end - start)/60\n",
    "log.LogChat(2, \"vector\", HP.question17, result['result'], times)\n",
    "print(result[\"result\"])\n",
    "print(times)"
   ]
  },
  {
   "cell_type": "code",
   "execution_count": 54,
   "id": "449934ab-b5f4-428b-b5eb-a097dfc9c359",
   "metadata": {},
   "outputs": [
    {
     "name": "stdout",
     "output_type": "stream",
     "text": [
      "Scabbers is the name of Ron's pet rat, which turns out to be an unregistered Animagus named Peter Pettigrew. Thanks for asking!\n",
      "1.457786003748576\n"
     ]
    }
   ],
   "source": [
    "start = time.time()\n",
    "result = chain.invoke({\"query\": HP.question18})\n",
    "end = time.time()\n",
    "times = (end - start)/60\n",
    "log.LogChat(2, \"vector\", HP.question18, result['result'], times)\n",
    "print(result[\"result\"])\n",
    "print(times)"
   ]
  },
  {
   "cell_type": "code",
   "execution_count": 55,
   "id": "39b1f901-eb22-490e-ad88-a0f8952de772",
   "metadata": {},
   "outputs": [
    {
     "name": "stdout",
     "output_type": "stream",
     "text": [
      "There are seven Weasley siblings: Bill, Charlie, Fred, George, Ginny, Molly, and Percy. Thanks for asking!\n",
      "0.6361682693163554\n"
     ]
    }
   ],
   "source": [
    "start = time.time()\n",
    "result = chain.invoke({\"query\": HP.question19})\n",
    "end = time.time()\n",
    "times = (end - start)/60\n",
    "log.LogChat(2, \"vector\", HP.question19, result['result'], times)\n",
    "print(result[\"result\"])\n",
    "print(times)"
   ]
  },
  {
   "cell_type": "code",
   "execution_count": 56,
   "id": "e0e0bce9-d837-43b5-97fa-8f116383d668",
   "metadata": {},
   "outputs": [
    {
     "name": "stdout",
     "output_type": "stream",
     "text": [
      "Ginny Weasley is the youngest Weasley sibling. She's the only girl in the family and has a special place in her brothers' hearts. Thanks for asking!\n",
      "0.610495944817861\n"
     ]
    }
   ],
   "source": [
    "start = time.time()\n",
    "result = chain.invoke({\"query\": HP.question20})\n",
    "end = time.time()\n",
    "times = (end - start)/60\n",
    "log.LogChat(2, \"vector\", HP.question20, result['result'], times)\n",
    "print(result[\"result\"])\n",
    "print(times)"
   ]
  },
  {
   "cell_type": "markdown",
   "id": "c4a4fd7b-0ad8-464a-beb2-071aa9d3f84e",
   "metadata": {},
   "source": [
    "# Test of awnsers sentence simularity"
   ]
  },
  {
   "cell_type": "code",
   "execution_count": 20,
   "id": "8aa30047-9009-472d-9677-f6e91743f02a",
   "metadata": {},
   "outputs": [],
   "source": [
    "docs = vectordb.similarity_search(HP.question2)"
   ]
  },
  {
   "cell_type": "code",
   "execution_count": 23,
   "id": "32c04560-f027-4b21-b14d-c0360349dff0",
   "metadata": {},
   "outputs": [
    {
     "name": "stdout",
     "output_type": "stream",
     "text": [
      "Behind the scenes[]\n",
      "Her house is the same as that of Jacob's sibling, which is chosen by the player.\n",
      "Appearances[]\n",
      "Harry Potter: Hogwarts Mystery (First mentioned)\n",
      "Notes and references[]\n",
      "\n",
      "\n",
      "↑ \"World Exclusive Interview with J K Rowling,\" South West News Service, 8 July 2000  - \"Hogwarts just serves Britain and Ireland.\"\n",
      "\n",
      "↑ 2.0 2.1 2.2 2.3 Harry Potter: Hogwarts Mystery, Year 7, Chapter 43 (Father Knows Best)\n",
      "\n",
      "↑ Harry Potter: Hogwarts Mystery, Year 7, Chapter 48 (Archival Evidence)\n"
     ]
    }
   ],
   "source": [
    "print(docs[0].page_content)"
   ]
  },
  {
   "cell_type": "code",
   "execution_count": 48,
   "id": "f418fcbb-eeae-43a6-b783-c4636d0bd999",
   "metadata": {
    "scrolled": true
   },
   "outputs": [
    {
     "name": "stdout",
     "output_type": "stream",
     "text": [
      "LEGO Harry Potter: Building the Magical World\n",
      "\n",
      "\n",
      "\n",
      "\n",
      "LEGO Harry Potter: Characters of the Magical World\n",
      "\n",
      "\n",
      "\n",
      "\n",
      "\n",
      "\n",
      "\n",
      "Characters\n",
      " \n",
      "\n",
      "\n",
      "\n",
      "\n",
      "Harry Potter\n",
      "\n",
      "\n",
      "\n",
      "\n",
      "Hermione Granger\n",
      "\n",
      "\n",
      "\n",
      "\n",
      "Ronald Weasley\n",
      "\n",
      "\n",
      "\n",
      "\n",
      "Ginny Weasley\n",
      "\n",
      "\n",
      "\n",
      "\n",
      "Albus Dumbledore\n",
      "\n",
      "\n",
      "\n",
      "\n",
      "Lord Voldemort\n",
      "\n",
      "\n",
      "\n",
      "\n",
      "Neville Longbottom\n",
      "\n",
      "\n",
      "\n",
      "\n",
      "Draco Malfoy\n",
      "\n",
      "\n",
      "\n",
      "\n",
      "Severus Snape\n",
      "\n",
      "\n",
      "\n",
      "\n",
      "Rubeus Hagrid\n",
      "\n",
      "\n",
      "\n",
      "\n",
      "\n",
      "\n",
      "\n",
      "\n",
      "\n",
      "\n",
      "\n",
      "Films\n",
      "\n",
      " \n",
      "\n",
      "\n",
      "\n",
      "\n",
      "The Eight Films\n",
      " \n",
      "\n",
      "\n",
      "\n",
      "\n",
      "Harry Potter and the Philosopher's Stone\n",
      "\n",
      "\n",
      "\n",
      "\n",
      "Harry Potter and the Chamber of Secrets\n",
      "\n",
      "\n",
      "\n",
      "\n",
      "Harry Potter and the Prisoner of Azkaban\n",
      "0.0007878859837849935\n"
     ]
    }
   ],
   "source": [
    "question = HP.question1\n",
    "start = time.time()\n",
    "result = vectordb.similarity_search(question)\n",
    "end = time.time()\n",
    "times = (end - start)/60\n",
    "log.LogChat(5, \"Vector_with_sentence_simularity\", question, result[0].page_content, times)\n",
    "print(result[0].page_content)\n",
    "print(times)"
   ]
  },
  {
   "cell_type": "code",
   "execution_count": 49,
   "id": "372e39be-5e12-4722-9851-11dbefac2923",
   "metadata": {},
   "outputs": [
    {
     "name": "stdout",
     "output_type": "stream",
     "text": [
      "Behind the scenes[]\n",
      "Her house is the same as that of Jacob's sibling, which is chosen by the player.\n",
      "Appearances[]\n",
      "Harry Potter: Hogwarts Mystery (First mentioned)\n",
      "Notes and references[]\n",
      "\n",
      "\n",
      "↑ \"World Exclusive Interview with J K Rowling,\" South West News Service, 8 July 2000  - \"Hogwarts just serves Britain and Ireland.\"\n",
      "\n",
      "↑ 2.0 2.1 2.2 2.3 Harry Potter: Hogwarts Mystery, Year 7, Chapter 43 (Father Knows Best)\n",
      "\n",
      "↑ Harry Potter: Hogwarts Mystery, Year 7, Chapter 48 (Archival Evidence)\n",
      "0.0007474700609842936\n"
     ]
    }
   ],
   "source": [
    "question = HP.question2\n",
    "start = time.time()\n",
    "result = vectordb.similarity_search(question)\n",
    "end = time.time()\n",
    "times = (end - start)/60\n",
    "log.LogChat(5, \"Vector_with_sentence_simularity\", question, result[0].page_content, times)\n",
    "print(result[0].page_content)\n",
    "print(times)"
   ]
  },
  {
   "cell_type": "code",
   "execution_count": 50,
   "id": "48da6555-0293-4403-bc43-0277281d88e6",
   "metadata": {},
   "outputs": [
    {
     "name": "stdout",
     "output_type": "stream",
     "text": [
      "Bellatrix Lestrange, her mother\n",
      "0.001641817887624105\n"
     ]
    }
   ],
   "source": [
    "question = HP.question3\n",
    "start = time.time()\n",
    "result = vectordb.similarity_search(question)\n",
    "end = time.time()\n",
    "times = (end - start)/60\n",
    "log.LogChat(5, \"Vector_with_sentence_simularity\", question, result[0].page_content, times)\n",
    "print(result[0].page_content)\n",
    "print(times)"
   ]
  },
  {
   "cell_type": "code",
   "execution_count": 51,
   "id": "8bd966ae-c230-4640-97d3-72c19e34b0f1",
   "metadata": {},
   "outputs": [
    {
     "name": "stdout",
     "output_type": "stream",
     "text": [
      "Merope Gaunt[]\n",
      "0.0016906181971232095\n"
     ]
    }
   ],
   "source": [
    "question = HP.question4\n",
    "start = time.time()\n",
    "result = vectordb.similarity_search(question)\n",
    "end = time.time()\n",
    "times = (end - start)/60\n",
    "log.LogChat(5, \"Vector_with_sentence_simularity\", question, result[0].page_content, times)\n",
    "print(result[0].page_content)\n",
    "print(times)"
   ]
  },
  {
   "cell_type": "code",
   "execution_count": 52,
   "id": "c3c17e4c-cc3f-4f1b-977f-86c476aa040e",
   "metadata": {},
   "outputs": [
    {
     "name": "stdout",
     "output_type": "stream",
     "text": [
      "created the Marauder's Map.\n",
      "0.0018303235371907552\n"
     ]
    }
   ],
   "source": [
    "question = HP.question5\n",
    "start = time.time()\n",
    "result = vectordb.similarity_search(question)\n",
    "end = time.time()\n",
    "times = (end - start)/60\n",
    "log.LogChat(5, \"Vector_with_sentence_simularity\", question, result[0].page_content, times)\n",
    "print(result[0].page_content)\n",
    "print(times)"
   ]
  },
  {
   "cell_type": "code",
   "execution_count": 53,
   "id": "60c01c12-6588-4765-a8c3-6a3bdaad4c5e",
   "metadata": {},
   "outputs": [
    {
     "name": "stdout",
     "output_type": "stream",
     "text": [
      "Half-Blood Prince[]\n",
      "0.0018881162007649739\n"
     ]
    }
   ],
   "source": [
    "question = HP.question6\n",
    "start = time.time()\n",
    "result = vectordb.similarity_search(question)\n",
    "end = time.time()\n",
    "times = (end - start)/60\n",
    "log.LogChat(5, \"Vector_with_sentence_simularity\", question, result[0].page_content, times)\n",
    "print(result[0].page_content)\n",
    "print(times)"
   ]
  },
  {
   "cell_type": "code",
   "execution_count": 54,
   "id": "2d7f4f4e-95f1-46f1-a86e-0613f812a42e",
   "metadata": {},
   "outputs": [
    {
     "name": "stdout",
     "output_type": "stream",
     "text": [
      "The Heir of Slytherin[]\n",
      "0.0023016492525736493\n"
     ]
    }
   ],
   "source": [
    "question = HP.question7\n",
    "start = time.time()\n",
    "result = vectordb.similarity_search(question)\n",
    "end = time.time()\n",
    "times = (end - start)/60\n",
    "log.LogChat(5, \"Vector_with_sentence_simularity\", question, result[0].page_content, times)\n",
    "print(result[0].page_content)\n",
    "print(times)"
   ]
  },
  {
   "cell_type": "code",
   "execution_count": 55,
   "id": "a1f41d05-eea7-49fa-aae2-e80ce52b066e",
   "metadata": {},
   "outputs": [
    {
     "name": "stdout",
     "output_type": "stream",
     "text": [
      "· Jonathan Spratt · Kevin Sterndale · Terry Strickland · Marcus Turner · Gabriel Truman · Percy Weasley · Ron Weasley · Ryan Westrup · Mervyn Wynch · Unidentified Gryffindor Prefect (I) · Unidentified Gryffindor Prefect (II) · Unidentified Ravenclaw Prefect (I) · Unidentified Ravenclaw Prefect (II) · Unidentified Slytherin Prefect (I) · Unidentified Slytherin Prefect (II) · Unidentified Slytherin Prefect (III)\n",
      "0.0020642797152201336\n"
     ]
    }
   ],
   "source": [
    "question = HP.question8\n",
    "start = time.time()\n",
    "result = vectordb.similarity_search(question)\n",
    "end = time.time()\n",
    "times = (end - start)/60\n",
    "log.LogChat(5, \"Vector_with_sentence_simularity\", question, result[0].page_content, times)\n",
    "print(result[0].page_content)\n",
    "print(times)"
   ]
  },
  {
   "cell_type": "code",
   "execution_count": 56,
   "id": "e776d731-173d-4477-a529-90f8cf2f6197",
   "metadata": {},
   "outputs": [
    {
     "name": "stdout",
     "output_type": "stream",
     "text": [
      "Ronald Weasley\n",
      "\n",
      "\n",
      "\n",
      "\n",
      "Ginny Weasley\n",
      "\n",
      "\n",
      "\n",
      "\n",
      "Albus Dumbledore\n",
      "\n",
      "\n",
      "\n",
      "\n",
      "Lord Voldemort\n",
      "\n",
      "\n",
      "\n",
      "\n",
      "Neville Longbottom\n",
      "\n",
      "\n",
      "\n",
      "\n",
      "Draco Malfoy\n",
      "\n",
      "\n",
      "\n",
      "\n",
      "Severus Snape\n",
      "\n",
      "\n",
      "\n",
      "\n",
      "Rubeus Hagrid\n",
      "\n",
      "\n",
      "\n",
      "\n",
      "\n",
      "\n",
      "\n",
      "\n",
      "\n",
      "\n",
      "\n",
      "Films\n",
      "\n",
      " \n",
      "\n",
      "\n",
      "\n",
      "\n",
      "The Eight Films\n",
      " \n",
      "\n",
      "\n",
      "\n",
      "\n",
      "Harry Potter and the Philosopher's Stone\n",
      "\n",
      "\n",
      "\n",
      "\n",
      "Harry Potter and the Chamber of Secrets\n",
      "\n",
      "\n",
      "\n",
      "\n",
      "Harry Potter and the Prisoner of Azkaban\n",
      "\n",
      "\n",
      "\n",
      "\n",
      "Harry Potter and the Goblet of Fire\n",
      "\n",
      "\n",
      "\n",
      "\n",
      "Harry Potter and the Order of the Phoenix\n",
      "\n",
      "\n",
      "\n",
      "\n",
      "Harry Potter and the Half-Blood Prince\n",
      "0.0015284419059753418\n"
     ]
    }
   ],
   "source": [
    "question = HP.question9\n",
    "start = time.time()\n",
    "result = vectordb.similarity_search(question)\n",
    "end = time.time()\n",
    "times = (end - start)/60\n",
    "log.LogChat(5, \"Vector_with_sentence_simularity\", question, result[0].page_content, times)\n",
    "print(result[0].page_content)\n",
    "print(times)"
   ]
  },
  {
   "cell_type": "code",
   "execution_count": 57,
   "id": "2d4b1e64-a8f4-4c54-8e1f-164fd5a07f84",
   "metadata": {},
   "outputs": [
    {
     "name": "stdout",
     "output_type": "stream",
     "text": [
      "Ronald Weasley\n",
      "\n",
      "\n",
      "\n",
      "\n",
      "Ginny Weasley\n",
      "\n",
      "\n",
      "\n",
      "\n",
      "Albus Dumbledore\n",
      "\n",
      "\n",
      "\n",
      "\n",
      "Lord Voldemort\n",
      "\n",
      "\n",
      "\n",
      "\n",
      "Neville Longbottom\n",
      "\n",
      "\n",
      "\n",
      "\n",
      "Draco Malfoy\n",
      "\n",
      "\n",
      "\n",
      "\n",
      "Severus Snape\n",
      "\n",
      "\n",
      "\n",
      "\n",
      "Rubeus Hagrid\n",
      "\n",
      "\n",
      "\n",
      "\n",
      "\n",
      "\n",
      "\n",
      "\n",
      "\n",
      "\n",
      "\n",
      "Films\n",
      "\n",
      " \n",
      "\n",
      "\n",
      "\n",
      "\n",
      "The Eight Films\n",
      " \n",
      "\n",
      "\n",
      "\n",
      "\n",
      "Harry Potter and the Philosopher's Stone\n",
      "\n",
      "\n",
      "\n",
      "\n",
      "Harry Potter and the Chamber of Secrets\n",
      "\n",
      "\n",
      "\n",
      "\n",
      "Harry Potter and the Prisoner of Azkaban\n",
      "\n",
      "\n",
      "\n",
      "\n",
      "Harry Potter and the Goblet of Fire\n",
      "\n",
      "\n",
      "\n",
      "\n",
      "Harry Potter and the Order of the Phoenix\n",
      "\n",
      "\n",
      "\n",
      "\n",
      "Harry Potter and the Half-Blood Prince\n",
      "0.0015008250872294109\n"
     ]
    }
   ],
   "source": [
    "question = HP.question10\n",
    "start = time.time()\n",
    "result = vectordb.similarity_search(question)\n",
    "end = time.time()\n",
    "times = (end - start)/60\n",
    "log.LogChat(5, \"Vector_with_sentence_simularity\", question, result[0].page_content, times)\n",
    "print(result[0].page_content)\n",
    "print(times)"
   ]
  },
  {
   "cell_type": "code",
   "execution_count": 58,
   "id": "be4a3a8e-0aea-4591-8aef-56ebaa8d72cf",
   "metadata": {},
   "outputs": [
    {
     "name": "stdout",
     "output_type": "stream",
     "text": [
      "Openings[]\n",
      "    The location of the Chamber of Secrets is in the second floor bathroom\n",
      "0.001596248149871826\n"
     ]
    }
   ],
   "source": [
    "question = HP.question11\n",
    "start = time.time()\n",
    "result = vectordb.similarity_search(question)\n",
    "end = time.time()\n",
    "times = (end - start)/60\n",
    "log.LogChat(5, \"Vector_with_sentence_simularity\", question, result[0].page_content, times)\n",
    "print(result[0].page_content)\n",
    "print(times)"
   ]
  },
  {
   "cell_type": "code",
   "execution_count": 59,
   "id": "66b957ed-b758-4622-9c15-5f17db63ed56",
   "metadata": {},
   "outputs": [
    {
     "name": "stdout",
     "output_type": "stream",
     "text": [
      "Winky, his father's previous house-elf\n",
      "0.0016001820564270019\n"
     ]
    }
   ],
   "source": [
    "question = HP.question12\n",
    "start = time.time()\n",
    "result = vectordb.similarity_search(question)\n",
    "end = time.time()\n",
    "times = (end - start)/60\n",
    "log.LogChat(5, \"Vector_with_sentence_simularity\", question, result[0].page_content, times)\n",
    "print(result[0].page_content)\n",
    "print(times)"
   ]
  },
  {
   "cell_type": "code",
   "execution_count": 60,
   "id": "c16bcf6e-901f-4199-a5f1-15333e1240cf",
   "metadata": {},
   "outputs": [
    {
     "name": "stdout",
     "output_type": "stream",
     "text": [
      "Unidentified goblin at Gringotts (II) | Harry Potter Wiki | Fandom\n",
      "\n",
      "\n",
      "\n",
      "\n",
      "\n",
      "\n",
      "\n",
      "\n",
      "\n",
      "\n",
      "\n",
      "\n",
      "\n",
      "\n",
      "\n",
      "\n",
      "\n",
      "\n",
      "\n",
      "\n",
      "\n",
      "\n",
      "\n",
      "\n",
      "\n",
      "\n",
      "\n",
      "\n",
      "\n",
      "\n",
      "\n",
      "\n",
      "\n",
      "\n",
      "\n",
      "\n",
      "\n",
      "\n",
      "\n",
      "\n",
      "\n",
      "\n",
      "\n",
      "\n",
      "\n",
      "\n",
      "\n",
      "\n",
      "\n",
      "Harry Potter Wiki\n",
      "\n",
      "\n",
      "\n",
      "\n",
      "\n",
      " Explore\n",
      "\n",
      " \n",
      "\n",
      "\n",
      "\n",
      "\n",
      " Main Page\n",
      "\n",
      "\n",
      "\n",
      "\n",
      " Discuss\n",
      "\n",
      "\n",
      "\n",
      "\n",
      "All Pages\n",
      "\n",
      "\n",
      "\n",
      "\n",
      "Community\n",
      "\n",
      "\n",
      "\n",
      "\n",
      "Interactive Maps\n",
      "\n",
      "\n",
      "\n",
      "\n",
      "Recent Blog Posts\n",
      "\n",
      "\n",
      "\n",
      "\n",
      "\n",
      "\n",
      "\n",
      "\n",
      "Books\n",
      "\n",
      " \n",
      "\n",
      "\n",
      "\n",
      "\n",
      "The Seven Novels\n",
      " \n",
      "\n",
      "\n",
      "\n",
      "\n",
      "Harry Potter and the Philosopher's Stone\n",
      "\n",
      "\n",
      "\n",
      "\n",
      "Harry Potter and the Chamber of Secrets\n",
      "\n",
      "\n",
      "\n",
      "\n",
      "Harry Potter and the Prisoner of Azkaban\n",
      "\n",
      "\n",
      "\n",
      "\n",
      "Harry Potter and the Goblet of Fire\n",
      "0.0017157316207885743\n"
     ]
    }
   ],
   "source": [
    "question = HP.question13\n",
    "start = time.time()\n",
    "result = vectordb.similarity_search(question)\n",
    "end = time.time()\n",
    "times = (end - start)/60\n",
    "log.LogChat(5, \"Vector_with_sentence_simularity\", question, result[0].page_content, times)\n",
    "print(result[0].page_content)\n",
    "print(times)"
   ]
  },
  {
   "cell_type": "code",
   "execution_count": 61,
   "id": "c55663e0-d064-4e59-bafd-50e2f1a1a2e7",
   "metadata": {},
   "outputs": [
    {
     "name": "stdout",
     "output_type": "stream",
     "text": [
      "Sirius Black, his maternal first cousin, once removed\n",
      "0.0015392502148946126\n"
     ]
    }
   ],
   "source": [
    "question = HP.question14\n",
    "start = time.time()\n",
    "result = vectordb.similarity_search(question)\n",
    "end = time.time()\n",
    "times = (end - start)/60\n",
    "log.LogChat(5, \"Vector_with_sentence_simularity\", question, result[0].page_content, times)\n",
    "print(result[0].page_content)\n",
    "print(times)"
   ]
  },
  {
   "cell_type": "code",
   "execution_count": 62,
   "id": "515c2b13-e93e-4248-a3fd-77425398cf14",
   "metadata": {},
   "outputs": [
    {
     "name": "stdout",
     "output_type": "stream",
     "text": [
      "This unnamed Irish man met Rubeus Hagrid in the Leaky Cauldron in 1990. He sold Hagrid the three-headed dog he owned. Hagrid named this dog Fluffy, and, the following year, lent him to Albus Dumbledore, who used him to guard the Philosopher's Stone.[1]\n",
      "0.0015552481015523275\n"
     ]
    }
   ],
   "source": [
    "question = HP.question15\n",
    "start = time.time()\n",
    "result = vectordb.similarity_search(question)\n",
    "end = time.time()\n",
    "times = (end - start)/60\n",
    "log.LogChat(5, \"Vector_with_sentence_simularity\", question, result[0].page_content, times)\n",
    "print(result[0].page_content)\n",
    "print(times)"
   ]
  },
  {
   "cell_type": "code",
   "execution_count": 63,
   "id": "8b569b27-2d60-46a5-8064-0ac494a5a9fe",
   "metadata": {},
   "outputs": [
    {
     "name": "stdout",
     "output_type": "stream",
     "text": [
      "Hippogriff | Harry Potter Wiki | Fandom\n",
      "\n",
      "\n",
      "\n",
      "\n",
      "\n",
      "\n",
      "\n",
      "\n",
      "\n",
      "\n",
      "\n",
      "\n",
      "\n",
      "\n",
      "\n",
      "\n",
      "\n",
      "\n",
      "\n",
      "\n",
      "\n",
      "\n",
      "\n",
      "\n",
      "\n",
      "\n",
      "\n",
      "\n",
      "\n",
      "\n",
      "\n",
      "\n",
      "\n",
      "\n",
      "\n",
      "\n",
      "\n",
      "\n",
      "\n",
      "\n",
      "\n",
      "\n",
      "\n",
      "\n",
      "\n",
      "\n",
      "\n",
      "\n",
      "\n",
      "Harry Potter Wiki\n",
      "\n",
      "\n",
      "\n",
      "\n",
      "\n",
      " Explore\n",
      "\n",
      " \n",
      "\n",
      "\n",
      "\n",
      "\n",
      " Main Page\n",
      "\n",
      "\n",
      "\n",
      "\n",
      " Discuss\n",
      "\n",
      "\n",
      "\n",
      "\n",
      "All Pages\n",
      "\n",
      "\n",
      "\n",
      "\n",
      "Community\n",
      "\n",
      "\n",
      "\n",
      "\n",
      "Interactive Maps\n",
      "\n",
      "\n",
      "\n",
      "\n",
      "Recent Blog Posts\n",
      "\n",
      "\n",
      "\n",
      "\n",
      "\n",
      "\n",
      "\n",
      "\n",
      "Books\n",
      "\n",
      " \n",
      "\n",
      "\n",
      "\n",
      "\n",
      "The Seven Novels\n",
      " \n",
      "\n",
      "\n",
      "\n",
      "\n",
      "Harry Potter and the Philosopher's Stone\n",
      "\n",
      "\n",
      "\n",
      "\n",
      "Harry Potter and the Chamber of Secrets\n",
      "\n",
      "\n",
      "\n",
      "\n",
      "Harry Potter and the Prisoner of Azkaban\n",
      "\n",
      "\n",
      "\n",
      "\n",
      "Harry Potter and the Goblet of Fire\n",
      "\n",
      "\n",
      "\n",
      "\n",
      "Harry Potter and the Order of the Phoenix\n",
      "0.0013714035352071126\n"
     ]
    }
   ],
   "source": [
    "question = HP.question16\n",
    "start = time.time()\n",
    "result = vectordb.similarity_search(question)\n",
    "end = time.time()\n",
    "times = (end - start)/60\n",
    "log.LogChat(5, \"Vector_with_sentence_simularity\", question, result[0].page_content, times)\n",
    "print(result[0].page_content)\n",
    "print(times)"
   ]
  },
  {
   "cell_type": "code",
   "execution_count": 64,
   "id": "8107ad3f-3351-4fc2-b669-0de151210615",
   "metadata": {},
   "outputs": [
    {
     "name": "stdout",
     "output_type": "stream",
     "text": [
      "She owned a fine golden cup which was fairly innocuous aside from being her possession. The cup was sought by Lord Voldemort nearly a thousand years later, for him to turn it into a Horcrux. She was the best friend of Rowena Ravenclaw. Her house corresponds to the element of earth.[4]\n",
      "0.0017510096232096354\n"
     ]
    }
   ],
   "source": [
    "question = HP.question17\n",
    "start = time.time()\n",
    "result = vectordb.similarity_search(question)\n",
    "end = time.time()\n",
    "times = (end - start)/60\n",
    "log.LogChat(5, \"Vector_with_sentence_simularity\", question, result[0].page_content, times)\n",
    "print(result[0].page_content)\n",
    "print(times)"
   ]
  },
  {
   "cell_type": "code",
   "execution_count": 65,
   "id": "e1be9575-b7cc-412b-b7d2-ea2517764243",
   "metadata": {},
   "outputs": [
    {
     "name": "stdout",
     "output_type": "stream",
     "text": [
      "Scabbers: Ron inherited Scabbers from Percy, who was gifted of an owl (Hermes) by his father in 1991 for becoming a Prefect.[11] It was an old, grey rat which missed a toe. Scabbers was already very old when Ron got it, and even if Ron complained about it all the time, saying that Scabbers was useless, he got angry when it seemed that Crookshanks ate the rat. At the end of Ron's third year, it turned out that Scabbers was actually the unregistered Animagus Peter Pettigrew, who was believed to\n",
      "0.0019565741221110027\n"
     ]
    }
   ],
   "source": [
    "question = HP.question18\n",
    "start = time.time()\n",
    "result = vectordb.similarity_search(question)\n",
    "end = time.time()\n",
    "times = (end - start)/60\n",
    "log.LogChat(5, \"Vector_with_sentence_simularity\", question, result[0].page_content, times)\n",
    "print(result[0].page_content)\n",
    "print(times)"
   ]
  },
  {
   "cell_type": "code",
   "execution_count": 66,
   "id": "ab653e55-4262-4b81-bc58-848f813706d7",
   "metadata": {},
   "outputs": [
    {
     "name": "stdout",
     "output_type": "stream",
     "text": [
      "The Weasley family\n",
      "0.0019035696983337401\n"
     ]
    }
   ],
   "source": [
    "question = HP.question19\n",
    "start = time.time()\n",
    "result = vectordb.similarity_search(question)\n",
    "end = time.time()\n",
    "times = (end - start)/60\n",
    "log.LogChat(5, \"Vector_with_sentence_simularity\", question, result[0].page_content, times)\n",
    "print(result[0].page_content)\n",
    "print(times)"
   ]
  },
  {
   "cell_type": "code",
   "execution_count": 67,
   "id": "9b7199c0-808a-4fcf-b6e1-30a66c80aae4",
   "metadata": {},
   "outputs": [
    {
     "name": "stdout",
     "output_type": "stream",
     "text": [
      "The Weasley family\n",
      "0.0022242387135823567\n"
     ]
    }
   ],
   "source": [
    "question = HP.question20\n",
    "start = time.time()\n",
    "result = vectordb.similarity_search(question)\n",
    "end = time.time()\n",
    "times = (end - start)/60\n",
    "log.LogChat(5, \"Vector_with_sentence_simularity\", question, result[0].page_content, times)\n",
    "print(result[0].page_content)\n",
    "print(times)"
   ]
  },
  {
   "cell_type": "code",
   "execution_count": null,
   "id": "dee7e643-cf25-465f-8aeb-cfbfdb7fff04",
   "metadata": {},
   "outputs": [],
   "source": []
  }
 ],
 "metadata": {
  "kernelspec": {
   "display_name": "Python 3 (ipykernel)",
   "language": "python",
   "name": "python3"
  },
  "language_info": {
   "codemirror_mode": {
    "name": "ipython",
    "version": 3
   },
   "file_extension": ".py",
   "mimetype": "text/x-python",
   "name": "python",
   "nbconvert_exporter": "python",
   "pygments_lexer": "ipython3",
   "version": "3.11.5"
  }
 },
 "nbformat": 4,
 "nbformat_minor": 5
}
