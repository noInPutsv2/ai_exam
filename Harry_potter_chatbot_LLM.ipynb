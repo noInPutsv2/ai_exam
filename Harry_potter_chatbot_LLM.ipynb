{
 "cells": [
  {
   "cell_type": "markdown",
   "id": "fa665265-b4d0-48be-a467-0f46d1ef6c13",
   "metadata": {},
   "source": [
    "## Set up"
   ]
  },
  {
   "cell_type": "code",
   "execution_count": 1,
   "id": "a27f7570-f0f9-4944-8807-5885575e559b",
   "metadata": {},
   "outputs": [],
   "source": [
    "import pandas as pd"
   ]
  },
  {
   "cell_type": "code",
   "execution_count": 2,
   "id": "f806e1fa-f49e-45fd-b989-9bdf4a6c272d",
   "metadata": {},
   "outputs": [],
   "source": [
    "import time"
   ]
  },
  {
   "cell_type": "code",
   "execution_count": 3,
   "id": "1309cf7e-3ce3-4488-a079-10c97cb55e96",
   "metadata": {},
   "outputs": [],
   "source": [
    "from langchain.llms import Ollama\n",
    "from langchain.chains import RetrievalQA\n",
    "from langchain.prompts import PromptTemplate"
   ]
  },
  {
   "cell_type": "code",
   "execution_count": 4,
   "id": "5b0155af-2755-4853-85f4-3c6fb4b5dbc5",
   "metadata": {},
   "outputs": [],
   "source": [
    "from langchain.vectorstores import Chroma\n",
    "from langchain.callbacks.manager import CallbackManager\n",
    "from langchain.callbacks.streaming_stdout import StreamingStdOutCallbackHandler"
   ]
  },
  {
   "cell_type": "code",
   "execution_count": 5,
   "id": "175587e8-0ed2-4476-b3ab-c4f8e6a1ae76",
   "metadata": {},
   "outputs": [],
   "source": [
    "from langchain.embeddings import HuggingFaceEmbeddings"
   ]
  },
  {
   "cell_type": "code",
   "execution_count": 15,
   "id": "55b3434d-9fcc-4485-a059-63026e56e63d",
   "metadata": {},
   "outputs": [],
   "source": [
    "import importlib\n",
    "import myloadlib\n",
    "import myutils"
   ]
  },
  {
   "cell_type": "markdown",
   "id": "967795bc-081a-40bb-8e30-bda9b2a3283d",
   "metadata": {},
   "source": [
    "## Get data"
   ]
  },
  {
   "cell_type": "markdown",
   "id": "bf8719ab-b11a-4ede-9cf9-c7ed99d32f05",
   "metadata": {},
   "source": [
    "## Embeddings"
   ]
  },
  {
   "cell_type": "code",
   "execution_count": 14,
   "id": "5e88955d-866f-43ea-8e6b-f5bb6ccb286c",
   "metadata": {},
   "outputs": [],
   "source": [
    "model_name = \"sentence-transformers/all-mpnet-base-v2\"\n",
    "# model_name = \"sentence-transformers/all-MiniLM-l6-v2\"\n",
    "model_kwargs = {'device': 'cpu'}\n",
    "encode_kwargs = {'normalize_embeddings': False}"
   ]
  },
  {
   "cell_type": "code",
   "execution_count": 15,
   "id": "a9d776c9-a297-46d5-ad47-df47238b2f9f",
   "metadata": {},
   "outputs": [
    {
     "name": "stderr",
     "output_type": "stream",
     "text": [
      "C:\\Users\\linew\\anaconda3\\Lib\\site-packages\\tqdm\\auto.py:21: TqdmWarning: IProgress not found. Please update jupyter and ipywidgets. See https://ipywidgets.readthedocs.io/en/stable/user_install.html\n",
      "  from .autonotebook import tqdm as notebook_tqdm\n"
     ]
    }
   ],
   "source": [
    "embeddings = HuggingFaceEmbeddings(\n",
    "    model_name=model_name,\n",
    "    model_kwargs=model_kwargs,\n",
    "    encode_kwargs=encode_kwargs\n",
    ")"
   ]
  },
  {
   "cell_type": "markdown",
   "id": "d95fa0f0-e9bd-4dd0-bbe2-86e9dbefbf9f",
   "metadata": {},
   "source": [
    "# LLM"
   ]
  },
  {
   "cell_type": "code",
   "execution_count": 153,
   "id": "79844064-168a-4bce-b08f-4ad940639ec9",
   "metadata": {},
   "outputs": [],
   "source": [
    "#try gemma and lama3 and zephyr\n",
    "#NOTE save all the data so don't have to re get it \n",
    "#next to a graph database make with diffbot "
   ]
  },
  {
   "cell_type": "code",
   "execution_count": 154,
   "id": "7a492130-8956-4245-95d1-26e544f95049",
   "metadata": {},
   "outputs": [],
   "source": [
    "llm = Ollama(model=\"gemma\", callback_manager = CallbackManager([StreamingStdOutCallbackHandler()]))"
   ]
  },
  {
   "cell_type": "code",
   "execution_count": 155,
   "id": "251c4bfa-0a66-41a0-869c-4baa27b9a316",
   "metadata": {},
   "outputs": [],
   "source": [
    "llm = Ollama(model=\"llama3\", callback_manager = CallbackManager([StreamingStdOutCallbackHandler()]))"
   ]
  },
  {
   "cell_type": "code",
   "execution_count": 156,
   "id": "2ce28a79-d61d-4cd9-97d6-b49b4c44c587",
   "metadata": {},
   "outputs": [],
   "source": [
    "llm = Ollama(model=\"zephyr\", callback_manager = CallbackManager([StreamingStdOutCallbackHandler()]))"
   ]
  },
  {
   "cell_type": "code",
   "execution_count": 9,
   "id": "821982d4-58a2-4ee2-85a6-6025ca4e109e",
   "metadata": {},
   "outputs": [],
   "source": [
    "llm = Ollama(model=\"mistral\", callback_manager = CallbackManager([StreamingStdOutCallbackHandler()]))"
   ]
  },
  {
   "cell_type": "code",
   "execution_count": 10,
   "id": "51f26e1e-8f06-49ec-80d4-3e58a560f547",
   "metadata": {},
   "outputs": [],
   "source": [
    "# Build prompt\n",
    "template = \"\"\"Use the following pieces of context to answer the question at the end. \n",
    "If you don't know the answer, just say that you don't know, don't try to make up an answer. \n",
    "Use five sentences maximum. Keep the answer as concise as possible. \n",
    "Always say \"thanks for asking!\" at the end of the answer. \n",
    "\n",
    "{context}\n",
    "\n",
    "Question: {question}\n",
    "\n",
    "Helpful Answer:\n",
    "\"\"\""
   ]
  },
  {
   "cell_type": "markdown",
   "id": "eccc713e-58f5-4497-94a0-ddeca1a3b8db",
   "metadata": {},
   "source": [
    "# TODO database get funtion"
   ]
  },
  {
   "cell_type": "code",
   "execution_count": 17,
   "id": "716025d5-f695-4aa8-862d-1a2db7b17929",
   "metadata": {},
   "outputs": [],
   "source": [
    "prompt = PromptTemplate.from_template(template)\n",
    "chain = RetrievalQA.from_chain_type(\n",
    "    llm,\n",
    "    retriever=vectordb2.as_retriever(),\n",
    "    return_source_documents=True,\n",
    "    chain_type_kwargs={\"prompt\": prompt})"
   ]
  },
  {
   "cell_type": "code",
   "execution_count": 36,
   "id": "fb852182-9093-4078-949c-e2818f2eab63",
   "metadata": {},
   "outputs": [],
   "source": [
    "question = \"what is harry potters wand?\""
   ]
  },
  {
   "cell_type": "code",
   "execution_count": 37,
   "id": "77bd0cb5-3b65-4f9c-a7e8-c0ff08c87848",
   "metadata": {},
   "outputs": [],
   "source": [
    "question = \"which hogwarts house does Harry belong to?\""
   ]
  },
  {
   "cell_type": "code",
   "execution_count": 45,
   "id": "36e60c52-52e0-4cf9-bb63-5d7a8cbedf8c",
   "metadata": {},
   "outputs": [],
   "source": [
    "question = \"who is Merope Gaunt?\""
   ]
  },
  {
   "cell_type": "code",
   "execution_count": 18,
   "id": "26cb636f-086f-4d08-81af-69d3b72323f1",
   "metadata": {},
   "outputs": [],
   "source": [
    "question = \"who is Merope Gaunts son? and give med the source\""
   ]
  },
  {
   "cell_type": "code",
   "execution_count": 19,
   "id": "2a0486bf-026f-41e3-bd92-842b9c959c74",
   "metadata": {},
   "outputs": [
    {
     "name": "stderr",
     "output_type": "stream",
     "text": [
      "C:\\Users\\linew\\anaconda3\\Lib\\site-packages\\langchain_core\\_api\\deprecation.py:119: LangChainDeprecationWarning: The method `Chain.__call__` was deprecated in langchain 0.1.0 and will be removed in 0.3.0. Use invoke instead.\n",
      "  warn_deprecated(\n"
     ]
    },
    {
     "name": "stdout",
     "output_type": "stream",
     "text": [
      " Merope Gaunt is not known to have had a son in the Harry Potter series. The given context only describes her upbringing with her father and brother in poverty-stricken conditions due to generations of inbreeding. (References: [4]) Thanks for asking!"
     ]
    },
    {
     "data": {
      "text/plain": [
       "str"
      ]
     },
     "execution_count": 19,
     "metadata": {},
     "output_type": "execute_result"
    }
   ],
   "source": [
    "result = chain({\"query\": question})\n",
    "result[\"result\"]"
   ]
  },
  {
   "cell_type": "code",
   "execution_count": null,
   "id": "df0e0027-58c4-41ae-80f3-29966fa2e515",
   "metadata": {},
   "outputs": [],
   "source": [
    "#Vectorise the evidence makeing it a feature \n",
    "#ENhanceing Rag by combineing vector and knogled graph\n",
    "\n",
    "#commboning semantic seach \n",
    "#enhancing the \n",
    "\n",
    "#MAke a diagram "
   ]
  }
 ],
 "metadata": {
  "kernelspec": {
   "display_name": "Python 3 (ipykernel)",
   "language": "python",
   "name": "python3"
  },
  "language_info": {
   "codemirror_mode": {
    "name": "ipython",
    "version": 3
   },
   "file_extension": ".py",
   "mimetype": "text/x-python",
   "name": "python",
   "nbconvert_exporter": "python",
   "pygments_lexer": "ipython3",
   "version": "3.11.5"
  }
 },
 "nbformat": 4,
 "nbformat_minor": 5
}
