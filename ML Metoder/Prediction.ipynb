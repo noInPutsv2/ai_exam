{
 "cells": [
  {
   "cell_type": "markdown",
   "id": "9f9b357e-6f80-466f-9662-98e48a5d3492",
   "metadata": {},
   "source": [
    "# Prediction on Persons\n",
    "Here we are trying to make preditions wheater Persons from out graph database are good or bad. \n",
    "To make this we had help from this site: https://www.geeksforgeeks.org/multiclass-classification-using-scikit-learn/"
   ]
  },
  {
   "cell_type": "code",
   "execution_count": 31,
   "id": "a16b9283-4d27-4c73-9a1e-34444d253700",
   "metadata": {},
   "outputs": [],
   "source": [
    "import pandas as pd\n",
    "import numpy as np\n",
    "from pandas import DataFrame\n",
    "import matplotlib.pyplot as plt\n",
    "from py2neo import Graph\n",
    "from sklearn.model_selection import train_test_split\n",
    "from sklearn.tree import DecisionTreeClassifier \n",
    "from sklearn.neighbors import KNeighborsClassifier \n",
    "from sklearn.svm import SVC \n",
    "from sklearn.naive_bayes import GaussianNB \n",
    "from sklearn.metrics import confusion_matrix "
   ]
  },
  {
   "cell_type": "markdown",
   "id": "96c3f400-67dd-4eb5-ba02-412dc758f097",
   "metadata": {},
   "source": [
    "### Getting the data\n",
    "We're pulling the persons from the graph"
   ]
  },
  {
   "cell_type": "code",
   "execution_count": 2,
   "id": "882202eb-80c0-4d2b-b2bf-f1513c9963e7",
   "metadata": {},
   "outputs": [],
   "source": [
    "url = \"neo4j://localhost:7687\"\n",
    "username = \"neo4j\"\n",
    "password = \"pleaseletmein\"\n",
    "\n",
    "session = Graph(\"bolt://localhost:7687\", auth=(\"neo4j\", password))"
   ]
  },
  {
   "cell_type": "code",
   "execution_count": 3,
   "id": "72fec406-8023-4e54-8887-dd8f5aa3d6bc",
   "metadata": {},
   "outputs": [],
   "source": [
    "query = ''' MATCH (p:Person) RETURN p.name, p.embedding; '''\n",
    "result = session.run(query).data()\n",
    "df = DataFrame(result)"
   ]
  },
  {
   "cell_type": "code",
   "execution_count": 4,
   "id": "b07af932-d866-4b12-9d78-9f9560b751de",
   "metadata": {},
   "outputs": [],
   "source": [
    "df.columns = [\"name\", \"embedding\"]"
   ]
  },
  {
   "cell_type": "markdown",
   "id": "90489e5e-7b01-46ac-97da-6392e8ed012a",
   "metadata": {},
   "source": [
    "We are converting it into a csv, inorder to manually add wheather people are good, bad, real or thing."
   ]
  },
  {
   "cell_type": "code",
   "execution_count": 7,
   "id": "532b86fd-f42f-495e-99cb-7618d6d008c0",
   "metadata": {},
   "outputs": [],
   "source": [
    "df.to_csv('HP_Persons.csv')"
   ]
  },
  {
   "cell_type": "markdown",
   "id": "83157e02-0575-4c44-9d59-d4292512ad5d",
   "metadata": {},
   "source": [
    "We're reading the excel sheet where we have altered the data"
   ]
  },
  {
   "cell_type": "code",
   "execution_count": 82,
   "id": "0a5b6f7f-c59c-4de1-a9fa-456eac2627ab",
   "metadata": {},
   "outputs": [],
   "source": [
    "df = pd.read_excel('HP_Persons.xlsx')"
   ]
  },
  {
   "cell_type": "code",
   "execution_count": 83,
   "id": "542207d5-ab37-4722-827c-80290a0a8e9b",
   "metadata": {},
   "outputs": [],
   "source": [
    "df = df.drop(\"Column1\", axis=1)"
   ]
  },
  {
   "cell_type": "markdown",
   "id": "9ac1364f-8e2d-4d35-9b4b-9becce53e408",
   "metadata": {},
   "source": [
    "In order to make the classification easier and focusing on good and bad, we remove all the Real and thing"
   ]
  },
  {
   "cell_type": "code",
   "execution_count": 84,
   "id": "04b67738-b46d-4bdc-aefd-7363505192fa",
   "metadata": {},
   "outputs": [],
   "source": [
    "df = df.drop(df[df.Status == \"Real\"].index)"
   ]
  },
  {
   "cell_type": "code",
   "execution_count": 85,
   "id": "c9852a16-70b2-406a-8984-208d9dd4e973",
   "metadata": {},
   "outputs": [],
   "source": [
    "df = df.drop(df[df.Status == \"Thing\"].index)"
   ]
  },
  {
   "cell_type": "markdown",
   "id": "6a89c0ea-8320-49c9-95e5-2d542378fd36",
   "metadata": {},
   "source": [
    "We splits the embeddings into each their own cell"
   ]
  },
  {
   "cell_type": "code",
   "execution_count": 86,
   "id": "432c2cf3-9928-4329-99bd-daac80a0cc96",
   "metadata": {},
   "outputs": [],
   "source": [
    "df['embedding'] = df.embedding.apply(lambda x: x[1:-1].split(','))"
   ]
  },
  {
   "cell_type": "code",
   "execution_count": 87,
   "id": "bea06c68-678e-4284-90e5-fb23447ec0a0",
   "metadata": {},
   "outputs": [],
   "source": [
    "df2 = df.embedding.apply(pd.Series)"
   ]
  },
  {
   "cell_type": "code",
   "execution_count": 88,
   "id": "51308d16-fbc2-4cd9-848a-7b0b5d454f56",
   "metadata": {},
   "outputs": [],
   "source": [
    "df = pd.concat([df, df2], axis=1)"
   ]
  },
  {
   "cell_type": "code",
   "execution_count": 89,
   "id": "40b64721-de4b-4166-ac20-d3b3329e6234",
   "metadata": {},
   "outputs": [
    {
     "data": {
      "text/html": [
       "<div>\n",
       "<style scoped>\n",
       "    .dataframe tbody tr th:only-of-type {\n",
       "        vertical-align: middle;\n",
       "    }\n",
       "\n",
       "    .dataframe tbody tr th {\n",
       "        vertical-align: top;\n",
       "    }\n",
       "\n",
       "    .dataframe thead th {\n",
       "        text-align: right;\n",
       "    }\n",
       "</style>\n",
       "<table border=\"1\" class=\"dataframe\">\n",
       "  <thead>\n",
       "    <tr style=\"text-align: right;\">\n",
       "      <th></th>\n",
       "      <th>name</th>\n",
       "      <th>Status</th>\n",
       "      <th>embedding</th>\n",
       "      <th>0</th>\n",
       "      <th>1</th>\n",
       "      <th>2</th>\n",
       "      <th>3</th>\n",
       "      <th>4</th>\n",
       "      <th>5</th>\n",
       "      <th>6</th>\n",
       "      <th>...</th>\n",
       "      <th>758</th>\n",
       "      <th>759</th>\n",
       "      <th>760</th>\n",
       "      <th>761</th>\n",
       "      <th>762</th>\n",
       "      <th>763</th>\n",
       "      <th>764</th>\n",
       "      <th>765</th>\n",
       "      <th>766</th>\n",
       "      <th>767</th>\n",
       "    </tr>\n",
       "  </thead>\n",
       "  <tbody>\n",
       "    <tr>\n",
       "      <th>0</th>\n",
       "      <td>Harry</td>\n",
       "      <td>Good</td>\n",
       "      <td>[0.0554661899805069,  0.08762118965387344,  -0...</td>\n",
       "      <td>0.0554661899805069</td>\n",
       "      <td>0.08762118965387344</td>\n",
       "      <td>-0.019243743270635605</td>\n",
       "      <td>0.014201984740793705</td>\n",
       "      <td>-0.009242274798452854</td>\n",
       "      <td>0.03193330019712448</td>\n",
       "      <td>0.003699988592416048</td>\n",
       "      <td>...</td>\n",
       "      <td>0.012820999138057232</td>\n",
       "      <td>-0.010130052454769611</td>\n",
       "      <td>-0.025637757033109665</td>\n",
       "      <td>0.018611906096339226</td>\n",
       "      <td>-0.008647894486784935</td>\n",
       "      <td>0.06780567765235901</td>\n",
       "      <td>0.019771531224250793</td>\n",
       "      <td>0.025388095527887344</td>\n",
       "      <td>-0.03252621740102768</td>\n",
       "      <td>-0.007751178462058306</td>\n",
       "    </tr>\n",
       "    <tr>\n",
       "      <th>1</th>\n",
       "      <td>Scabbers</td>\n",
       "      <td>Bad</td>\n",
       "      <td>[0.0447714626789093,  0.04372702166438103,  -0...</td>\n",
       "      <td>0.0447714626789093</td>\n",
       "      <td>0.04372702166438103</td>\n",
       "      <td>-0.006937826052308083</td>\n",
       "      <td>0.00017033978656399995</td>\n",
       "      <td>-0.035803359001874924</td>\n",
       "      <td>0.016571935266256332</td>\n",
       "      <td>-0.012373975478112698</td>\n",
       "      <td>...</td>\n",
       "      <td>0.0062648337334394455</td>\n",
       "      <td>0.0016474747098982334</td>\n",
       "      <td>-0.020052535459399223</td>\n",
       "      <td>0.02419605478644371</td>\n",
       "      <td>-0.013569868169724941</td>\n",
       "      <td>0.041650574654340744</td>\n",
       "      <td>0.01640363596379757</td>\n",
       "      <td>-0.012378434650599957</td>\n",
       "      <td>-0.037346068769693375</td>\n",
       "      <td>-0.0007143528200685978</td>\n",
       "    </tr>\n",
       "    <tr>\n",
       "      <th>2</th>\n",
       "      <td>Fred</td>\n",
       "      <td>Good</td>\n",
       "      <td>[0.04668577387928963,  0.06711672246456146,  -...</td>\n",
       "      <td>0.04668577387928963</td>\n",
       "      <td>0.06711672246456146</td>\n",
       "      <td>-0.02943517453968525</td>\n",
       "      <td>0.01713918335735798</td>\n",
       "      <td>-0.0056519899517297745</td>\n",
       "      <td>0.016713475808501244</td>\n",
       "      <td>-0.01353745348751545</td>\n",
       "      <td>...</td>\n",
       "      <td>0.013912532478570938</td>\n",
       "      <td>-0.015418739058077335</td>\n",
       "      <td>-0.043026573956012726</td>\n",
       "      <td>0.02771172672510147</td>\n",
       "      <td>-0.0081111965700984</td>\n",
       "      <td>0.05466648191213608</td>\n",
       "      <td>0.0472407191991806</td>\n",
       "      <td>0.008438504301011562</td>\n",
       "      <td>-0.04130227491259575</td>\n",
       "      <td>-0.010776243172585964</td>\n",
       "    </tr>\n",
       "    <tr>\n",
       "      <th>3</th>\n",
       "      <td>Ron</td>\n",
       "      <td>Good</td>\n",
       "      <td>[0.058472584933042526,  0.07164731621742249,  ...</td>\n",
       "      <td>0.058472584933042526</td>\n",
       "      <td>0.07164731621742249</td>\n",
       "      <td>-0.03246584162116051</td>\n",
       "      <td>0.018604660406708717</td>\n",
       "      <td>-0.016124481335282326</td>\n",
       "      <td>0.02757416106760502</td>\n",
       "      <td>-0.019244594499468803</td>\n",
       "      <td>...</td>\n",
       "      <td>0.026459848508238792</td>\n",
       "      <td>0.0009260252118110657</td>\n",
       "      <td>-0.05699407681822777</td>\n",
       "      <td>0.03377788886427879</td>\n",
       "      <td>6.378175021382049e-05</td>\n",
       "      <td>0.05758826434612274</td>\n",
       "      <td>0.038908086717128754</td>\n",
       "      <td>0.006456473376601934</td>\n",
       "      <td>-0.047205470502376556</td>\n",
       "      <td>-0.0043112835846841335</td>\n",
       "    </tr>\n",
       "    <tr>\n",
       "      <th>4</th>\n",
       "      <td>Molly Weasley</td>\n",
       "      <td>Good</td>\n",
       "      <td>[0.056798167526721954,  0.11087218672037125,  ...</td>\n",
       "      <td>0.056798167526721954</td>\n",
       "      <td>0.11087218672037125</td>\n",
       "      <td>-0.022338509559631348</td>\n",
       "      <td>0.02829190343618393</td>\n",
       "      <td>0.015429483726620674</td>\n",
       "      <td>0.016161613166332245</td>\n",
       "      <td>-0.011285803280770779</td>\n",
       "      <td>...</td>\n",
       "      <td>0.004324291832745075</td>\n",
       "      <td>0.007377530448138714</td>\n",
       "      <td>0.0016631472390145063</td>\n",
       "      <td>0.01695195399224758</td>\n",
       "      <td>0.004773342050611973</td>\n",
       "      <td>0.08857139199972153</td>\n",
       "      <td>0.007242530584335327</td>\n",
       "      <td>0.00734473904594779</td>\n",
       "      <td>-0.025943312793970108</td>\n",
       "      <td>-0.00823401752859354</td>\n",
       "    </tr>\n",
       "    <tr>\n",
       "      <th>...</th>\n",
       "      <td>...</td>\n",
       "      <td>...</td>\n",
       "      <td>...</td>\n",
       "      <td>...</td>\n",
       "      <td>...</td>\n",
       "      <td>...</td>\n",
       "      <td>...</td>\n",
       "      <td>...</td>\n",
       "      <td>...</td>\n",
       "      <td>...</td>\n",
       "      <td>...</td>\n",
       "      <td>...</td>\n",
       "      <td>...</td>\n",
       "      <td>...</td>\n",
       "      <td>...</td>\n",
       "      <td>...</td>\n",
       "      <td>...</td>\n",
       "      <td>...</td>\n",
       "      <td>...</td>\n",
       "      <td>...</td>\n",
       "      <td>...</td>\n",
       "    </tr>\n",
       "    <tr>\n",
       "      <th>501</th>\n",
       "      <td>Minerva McGonagall</td>\n",
       "      <td>Good</td>\n",
       "      <td>[0.055223871022462845,  0.09873385727405548,  ...</td>\n",
       "      <td>0.055223871022462845</td>\n",
       "      <td>0.09873385727405548</td>\n",
       "      <td>-0.010511481203138828</td>\n",
       "      <td>0.039570268243551254</td>\n",
       "      <td>0.026631832122802734</td>\n",
       "      <td>-0.005641243886202574</td>\n",
       "      <td>-0.008217244409024715</td>\n",
       "      <td>...</td>\n",
       "      <td>0.003707554657012224</td>\n",
       "      <td>-0.014428874477744102</td>\n",
       "      <td>-0.024516494944691658</td>\n",
       "      <td>0.00019872035773005337</td>\n",
       "      <td>-0.022120941430330276</td>\n",
       "      <td>0.05373264476656914</td>\n",
       "      <td>0.016093198210000992</td>\n",
       "      <td>0.04842901974916458</td>\n",
       "      <td>-0.012857655063271523</td>\n",
       "      <td>-0.00743181724101305</td>\n",
       "    </tr>\n",
       "    <tr>\n",
       "      <th>503</th>\n",
       "      <td>Agnes Scribner</td>\n",
       "      <td>Good</td>\n",
       "      <td>[0.037225402891635895,  0.07300110161304474,  ...</td>\n",
       "      <td>0.037225402891635895</td>\n",
       "      <td>0.07300110161304474</td>\n",
       "      <td>-0.0005204884801059961</td>\n",
       "      <td>0.0018217820907011628</td>\n",
       "      <td>0.003944030497223139</td>\n",
       "      <td>0.029815325513482094</td>\n",
       "      <td>-0.0007348418002948165</td>\n",
       "      <td>...</td>\n",
       "      <td>0.0039934986270964146</td>\n",
       "      <td>-0.014426660723984241</td>\n",
       "      <td>-0.0038837501779198647</td>\n",
       "      <td>0.02595781907439232</td>\n",
       "      <td>-0.018637338653206825</td>\n",
       "      <td>-0.008951538242399693</td>\n",
       "      <td>-0.0006648518028669059</td>\n",
       "      <td>-0.0019827643409371376</td>\n",
       "      <td>-0.025268429890275</td>\n",
       "      <td>-0.01809905469417572</td>\n",
       "    </tr>\n",
       "    <tr>\n",
       "      <th>504</th>\n",
       "      <td>Victor Ketsueki</td>\n",
       "      <td>Good</td>\n",
       "      <td>[0.06615018844604492,  0.07716969400644302,  -...</td>\n",
       "      <td>0.06615018844604492</td>\n",
       "      <td>0.07716969400644302</td>\n",
       "      <td>-0.01368379220366478</td>\n",
       "      <td>0.0017880717059597373</td>\n",
       "      <td>0.034667108207941055</td>\n",
       "      <td>0.03350356966257095</td>\n",
       "      <td>-0.01840806193649769</td>\n",
       "      <td>...</td>\n",
       "      <td>0.0002878686645999551</td>\n",
       "      <td>0.00021418672986328602</td>\n",
       "      <td>-0.03107842057943344</td>\n",
       "      <td>-0.0003238646895624697</td>\n",
       "      <td>-0.010388427414000034</td>\n",
       "      <td>0.050097834318876266</td>\n",
       "      <td>0.05298904329538345</td>\n",
       "      <td>-0.02661307156085968</td>\n",
       "      <td>-0.027611734345555305</td>\n",
       "      <td>-0.006317094899713993</td>\n",
       "    </tr>\n",
       "    <tr>\n",
       "      <th>505</th>\n",
       "      <td>Sebastian Sallow</td>\n",
       "      <td>Bad</td>\n",
       "      <td>[0.059542685747146606,  0.094327412545681,  7....</td>\n",
       "      <td>0.059542685747146606</td>\n",
       "      <td>0.094327412545681</td>\n",
       "      <td>7.800864841556177e-05</td>\n",
       "      <td>-0.01185739878565073</td>\n",
       "      <td>-0.0008587263291701674</td>\n",
       "      <td>0.003966076299548149</td>\n",
       "      <td>0.006104552652686834</td>\n",
       "      <td>...</td>\n",
       "      <td>0.03337067738175392</td>\n",
       "      <td>-0.011486820876598358</td>\n",
       "      <td>-0.05080188065767288</td>\n",
       "      <td>0.02877655066549778</td>\n",
       "      <td>-0.01903604343533516</td>\n",
       "      <td>-0.012850411236286163</td>\n",
       "      <td>0.02526470646262169</td>\n",
       "      <td>0.00021004574955441058</td>\n",
       "      <td>-0.016080636531114578</td>\n",
       "      <td>-0.018070509657263756</td>\n",
       "    </tr>\n",
       "    <tr>\n",
       "      <th>506</th>\n",
       "      <td>Eupraxia Mole</td>\n",
       "      <td>Good</td>\n",
       "      <td>[0.07731538265943527,  0.061029911041259766,  ...</td>\n",
       "      <td>0.07731538265943527</td>\n",
       "      <td>0.061029911041259766</td>\n",
       "      <td>-0.01316345576196909</td>\n",
       "      <td>-0.01956050843000412</td>\n",
       "      <td>0.016209514811635017</td>\n",
       "      <td>0.053190331906080246</td>\n",
       "      <td>-0.020468641072511673</td>\n",
       "      <td>...</td>\n",
       "      <td>-0.000533481827005744</td>\n",
       "      <td>-0.028153954073786736</td>\n",
       "      <td>-0.09027718007564545</td>\n",
       "      <td>0.0007474978920072317</td>\n",
       "      <td>0.011430039070546627</td>\n",
       "      <td>0.059888195246458054</td>\n",
       "      <td>0.01733013615012169</td>\n",
       "      <td>-0.0011474215425550938</td>\n",
       "      <td>-0.04227013140916824</td>\n",
       "      <td>0.011534685268998146</td>\n",
       "    </tr>\n",
       "  </tbody>\n",
       "</table>\n",
       "<p>422 rows × 771 columns</p>\n",
       "</div>"
      ],
      "text/plain": [
       "                   name Status  \\\n",
       "0                 Harry   Good   \n",
       "1              Scabbers    Bad   \n",
       "2                  Fred   Good   \n",
       "3                   Ron   Good   \n",
       "4         Molly Weasley   Good   \n",
       "..                  ...    ...   \n",
       "501  Minerva McGonagall   Good   \n",
       "503      Agnes Scribner   Good   \n",
       "504     Victor Ketsueki   Good   \n",
       "505    Sebastian Sallow    Bad   \n",
       "506       Eupraxia Mole   Good   \n",
       "\n",
       "                                             embedding                     0  \\\n",
       "0    [0.0554661899805069,  0.08762118965387344,  -0...    0.0554661899805069   \n",
       "1    [0.0447714626789093,  0.04372702166438103,  -0...    0.0447714626789093   \n",
       "2    [0.04668577387928963,  0.06711672246456146,  -...   0.04668577387928963   \n",
       "3    [0.058472584933042526,  0.07164731621742249,  ...  0.058472584933042526   \n",
       "4    [0.056798167526721954,  0.11087218672037125,  ...  0.056798167526721954   \n",
       "..                                                 ...                   ...   \n",
       "501  [0.055223871022462845,  0.09873385727405548,  ...  0.055223871022462845   \n",
       "503  [0.037225402891635895,  0.07300110161304474,  ...  0.037225402891635895   \n",
       "504  [0.06615018844604492,  0.07716969400644302,  -...   0.06615018844604492   \n",
       "505  [0.059542685747146606,  0.094327412545681,  7....  0.059542685747146606   \n",
       "506  [0.07731538265943527,  0.061029911041259766,  ...   0.07731538265943527   \n",
       "\n",
       "                         1                        2                        3  \\\n",
       "0      0.08762118965387344    -0.019243743270635605     0.014201984740793705   \n",
       "1      0.04372702166438103    -0.006937826052308083   0.00017033978656399995   \n",
       "2      0.06711672246456146     -0.02943517453968525      0.01713918335735798   \n",
       "3      0.07164731621742249     -0.03246584162116051     0.018604660406708717   \n",
       "4      0.11087218672037125    -0.022338509559631348      0.02829190343618393   \n",
       "..                     ...                      ...                      ...   \n",
       "501    0.09873385727405548    -0.010511481203138828     0.039570268243551254   \n",
       "503    0.07300110161304474   -0.0005204884801059961    0.0018217820907011628   \n",
       "504    0.07716969400644302     -0.01368379220366478    0.0017880717059597373   \n",
       "505      0.094327412545681    7.800864841556177e-05     -0.01185739878565073   \n",
       "506   0.061029911041259766     -0.01316345576196909     -0.01956050843000412   \n",
       "\n",
       "                           4                       5                        6  \\\n",
       "0      -0.009242274798452854     0.03193330019712448     0.003699988592416048   \n",
       "1      -0.035803359001874924    0.016571935266256332    -0.012373975478112698   \n",
       "2     -0.0056519899517297745    0.016713475808501244     -0.01353745348751545   \n",
       "3      -0.016124481335282326     0.02757416106760502    -0.019244594499468803   \n",
       "4       0.015429483726620674    0.016161613166332245    -0.011285803280770779   \n",
       "..                       ...                     ...                      ...   \n",
       "501     0.026631832122802734   -0.005641243886202574    -0.008217244409024715   \n",
       "503     0.003944030497223139    0.029815325513482094   -0.0007348418002948165   \n",
       "504     0.034667108207941055     0.03350356966257095     -0.01840806193649769   \n",
       "505   -0.0008587263291701674    0.003966076299548149     0.006104552652686834   \n",
       "506     0.016209514811635017    0.053190331906080246    -0.020468641072511673   \n",
       "\n",
       "     ...                     758                      759  \\\n",
       "0    ...    0.012820999138057232    -0.010130052454769611   \n",
       "1    ...   0.0062648337334394455    0.0016474747098982334   \n",
       "2    ...    0.013912532478570938    -0.015418739058077335   \n",
       "3    ...    0.026459848508238792    0.0009260252118110657   \n",
       "4    ...    0.004324291832745075     0.007377530448138714   \n",
       "..   ...                     ...                      ...   \n",
       "501  ...    0.003707554657012224    -0.014428874477744102   \n",
       "503  ...   0.0039934986270964146    -0.014426660723984241   \n",
       "504  ...   0.0002878686645999551   0.00021418672986328602   \n",
       "505  ...     0.03337067738175392    -0.011486820876598358   \n",
       "506  ...   -0.000533481827005744    -0.028153954073786736   \n",
       "\n",
       "                         760                      761                     762  \\\n",
       "0      -0.025637757033109665     0.018611906096339226   -0.008647894486784935   \n",
       "1      -0.020052535459399223      0.02419605478644371   -0.013569868169724941   \n",
       "2      -0.043026573956012726      0.02771172672510147     -0.0081111965700984   \n",
       "3       -0.05699407681822777      0.03377788886427879   6.378175021382049e-05   \n",
       "4      0.0016631472390145063      0.01695195399224758    0.004773342050611973   \n",
       "..                       ...                      ...                     ...   \n",
       "501    -0.024516494944691658   0.00019872035773005337   -0.022120941430330276   \n",
       "503   -0.0038837501779198647      0.02595781907439232   -0.018637338653206825   \n",
       "504     -0.03107842057943344   -0.0003238646895624697   -0.010388427414000034   \n",
       "505     -0.05080188065767288      0.02877655066549778    -0.01903604343533516   \n",
       "506     -0.09027718007564545    0.0007474978920072317    0.011430039070546627   \n",
       "\n",
       "                        763                      764                      765  \\\n",
       "0       0.06780567765235901     0.019771531224250793     0.025388095527887344   \n",
       "1      0.041650574654340744      0.01640363596379757    -0.012378434650599957   \n",
       "2       0.05466648191213608       0.0472407191991806     0.008438504301011562   \n",
       "3       0.05758826434612274     0.038908086717128754     0.006456473376601934   \n",
       "4       0.08857139199972153     0.007242530584335327      0.00734473904594779   \n",
       "..                      ...                      ...                      ...   \n",
       "501     0.05373264476656914     0.016093198210000992      0.04842901974916458   \n",
       "503   -0.008951538242399693   -0.0006648518028669059   -0.0019827643409371376   \n",
       "504    0.050097834318876266      0.05298904329538345     -0.02661307156085968   \n",
       "505   -0.012850411236286163      0.02526470646262169   0.00021004574955441058   \n",
       "506    0.059888195246458054      0.01733013615012169   -0.0011474215425550938   \n",
       "\n",
       "                        766                      767  \n",
       "0      -0.03252621740102768    -0.007751178462058306  \n",
       "1     -0.037346068769693375   -0.0007143528200685978  \n",
       "2      -0.04130227491259575    -0.010776243172585964  \n",
       "3     -0.047205470502376556   -0.0043112835846841335  \n",
       "4     -0.025943312793970108     -0.00823401752859354  \n",
       "..                      ...                      ...  \n",
       "501   -0.012857655063271523     -0.00743181724101305  \n",
       "503      -0.025268429890275     -0.01809905469417572  \n",
       "504   -0.027611734345555305    -0.006317094899713993  \n",
       "505   -0.016080636531114578    -0.018070509657263756  \n",
       "506    -0.04227013140916824     0.011534685268998146  \n",
       "\n",
       "[422 rows x 771 columns]"
      ]
     },
     "execution_count": 89,
     "metadata": {},
     "output_type": "execute_result"
    }
   ],
   "source": [
    "df"
   ]
  },
  {
   "cell_type": "markdown",
   "id": "9e04288c-ea38-4c6c-8d60-2a984d01920e",
   "metadata": {},
   "source": [
    "### Traing and test"
   ]
  },
  {
   "cell_type": "markdown",
   "id": "12cdc90e-3b3b-4e70-b3a4-548020661f63",
   "metadata": {},
   "source": [
    "We defines X and Y, where X is the embeddings in their own cell, and Y is the label, we're checking"
   ]
  },
  {
   "cell_type": "code",
   "execution_count": 90,
   "id": "fd3e92df-7d04-4a34-b07e-da4a9aebe1fc",
   "metadata": {},
   "outputs": [],
   "source": [
    "X = df.drop([\"name\", \"Status\", \"embedding\"], axis=1)\n",
    "Y = df[\"Status\"]"
   ]
  },
  {
   "cell_type": "markdown",
   "id": "99070741-f39f-4008-b092-c72f30ef5493",
   "metadata": {},
   "source": [
    "We split the data into train and test set, because we only have 422 persons in it, we have decided to make the train and test set 50/50 instead of the usally 80/20."
   ]
  },
  {
   "cell_type": "code",
   "execution_count": 99,
   "id": "cbbbc4ef-cf9c-4ee5-aab9-c43d31873215",
   "metadata": {},
   "outputs": [],
   "source": [
    "x_train, x_test, y_train, y_test= train_test_split(X, Y, test_size=0.5, random_state=101)"
   ]
  },
  {
   "cell_type": "markdown",
   "id": "4c9fd211-3f84-4265-920f-67be20f58cac",
   "metadata": {},
   "source": [
    "### Decision Tree\n",
    "Here we're using a decision tree classifier, and creating a confusion matrix"
   ]
  },
  {
   "cell_type": "code",
   "execution_count": 93,
   "id": "eaa0c1aa-a92a-49ae-9363-6c5bb4f93af3",
   "metadata": {},
   "outputs": [],
   "source": [
    "dtree_model = DecisionTreeClassifier(max_depth = 2).fit(x_train, y_train) \n",
    "dtree_predictions = dtree_model.predict(x_test) \n",
    "\n",
    "# creating a confusion matrix \n",
    "cm = confusion_matrix(y_test, dtree_predictions) "
   ]
  },
  {
   "cell_type": "code",
   "execution_count": 94,
   "id": "3967d06c-6b5f-419b-9e84-35b3d0cce4ef",
   "metadata": {},
   "outputs": [
    {
     "data": {
      "text/plain": [
       "array([[  6,  28],\n",
       "       [ 11, 166]], dtype=int64)"
      ]
     },
     "execution_count": 94,
     "metadata": {},
     "output_type": "execute_result"
    }
   ],
   "source": [
    "cm"
   ]
  },
  {
   "cell_type": "markdown",
   "id": "5ee51677-77f5-48e5-ad9f-ced70d9a233b",
   "metadata": {},
   "source": [
    "Here can we see that it guesses corret 172 times and only 39 times wrong which isn't that bad"
   ]
  },
  {
   "cell_type": "markdown",
   "id": "2bf0c69a-4efa-426d-bd2e-ffc930a8ef64",
   "metadata": {},
   "source": [
    "### K-Nearst Neighbors\n",
    "To see if there was better methods, we tried to make the clasification again with K-nearst neighbors, and made a new confusion matrix"
   ]
  },
  {
   "cell_type": "code",
   "execution_count": 118,
   "id": "50d7fd99-c203-4211-8949-e982536d64ae",
   "metadata": {},
   "outputs": [
    {
     "name": "stdout",
     "output_type": "stream",
     "text": [
      "0.8530805687203792\n"
     ]
    },
    {
     "data": {
      "text/plain": [
       "array([[ 16,  18],\n",
       "       [ 13, 164]], dtype=int64)"
      ]
     },
     "execution_count": 118,
     "metadata": {},
     "output_type": "execute_result"
    }
   ],
   "source": [
    "knn = KNeighborsClassifier(n_neighbors = 3).fit(x_train, y_train) \n",
    "  \n",
    "# accuracy on X_test \n",
    "accuracy = knn.score(x_test, y_test) \n",
    "print (accuracy) \n",
    "  \n",
    "# creating a confusion matrix \n",
    "knn_predictions = knn.predict(x_test)  \n",
    "cm = confusion_matrix(y_test, knn_predictions) \n",
    "cm"
   ]
  },
  {
   "cell_type": "markdown",
   "id": "1a814a5d-07d2-4522-9181-97e4dad7d3a2",
   "metadata": {},
   "source": [
    "Here we also made an accuracy score, which is 85% and is pretty good. It got 180 right and 31 wrong. "
   ]
  },
  {
   "cell_type": "markdown",
   "id": "77720d80-d954-458a-8e17-87f3966f4dee",
   "metadata": {},
   "source": [
    "### SVM classifier "
   ]
  },
  {
   "cell_type": "code",
   "execution_count": 120,
   "id": "8757dc6a-4334-4ec2-ae5a-e9aca72459d2",
   "metadata": {},
   "outputs": [
    {
     "name": "stdout",
     "output_type": "stream",
     "text": [
      "0.8388625592417062\n"
     ]
    },
    {
     "data": {
      "text/plain": [
       "array([[  0,  34],\n",
       "       [  0, 177]], dtype=int64)"
      ]
     },
     "execution_count": 120,
     "metadata": {},
     "output_type": "execute_result"
    }
   ],
   "source": [
    "# training a linear SVM classifier \n",
    "\n",
    "svm_model_linear = SVC(kernel = 'linear', C = 1).fit(x_train, y_train) \n",
    "svm_predictions = svm_model_linear.predict(x_test) \n",
    "  \n",
    "# model accuracy for X_test   \n",
    "accuracy = svm_model_linear.score(x_test, y_test) \n",
    "print (accuracy) \n",
    "   \n",
    "# creating a confusion matrix \n",
    "cm = confusion_matrix(y_test, svm_predictions) \n",
    "cm"
   ]
  },
  {
   "cell_type": "markdown",
   "id": "cdb52974-52f0-448f-b9fe-ca46e5f6d8b1",
   "metadata": {},
   "source": [
    "Here we also made an accuracy score, which is 84%. It got 177 correct and 34 wrong. The funny thing here is that it just but every person as positive, which we guess means good since there are more good persons than bad."
   ]
  },
  {
   "cell_type": "markdown",
   "id": "026ebe93-d901-4215-977d-f51c0ea31847",
   "metadata": {},
   "source": [
    "### Naive Bayes classifier"
   ]
  },
  {
   "cell_type": "code",
   "execution_count": 122,
   "id": "ddb9d292-f096-4e77-a71f-d8f39d7aeb13",
   "metadata": {},
   "outputs": [
    {
     "name": "stdout",
     "output_type": "stream",
     "text": [
      "0.8388625592417062\n"
     ]
    },
    {
     "data": {
      "text/plain": [
       "array([[ 19,  15],\n",
       "       [ 19, 158]], dtype=int64)"
      ]
     },
     "execution_count": 122,
     "metadata": {},
     "output_type": "execute_result"
    }
   ],
   "source": [
    "gnb = GaussianNB().fit(x_train, y_train) \n",
    "gnb_predictions = gnb.predict(x_test) \n",
    "  \n",
    "# accuracy on X_test \n",
    "accuracy = gnb.score(x_test, y_test) \n",
    "print (accuracy) \n",
    "  \n",
    "# creating a confusion matrix \n",
    "cm = confusion_matrix(y_test, gnb_predictions) \n",
    "cm"
   ]
  }
 ],
 "metadata": {
  "kernelspec": {
   "display_name": "Python 3 (ipykernel)",
   "language": "python",
   "name": "python3"
  },
  "language_info": {
   "codemirror_mode": {
    "name": "ipython",
    "version": 3
   },
   "file_extension": ".py",
   "mimetype": "text/x-python",
   "name": "python",
   "nbconvert_exporter": "python",
   "pygments_lexer": "ipython3",
   "version": "3.11.5"
  }
 },
 "nbformat": 4,
 "nbformat_minor": 5
}
