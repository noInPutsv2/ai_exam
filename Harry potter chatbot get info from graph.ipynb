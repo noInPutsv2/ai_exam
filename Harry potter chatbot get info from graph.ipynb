{
 "cells": [
  {
   "cell_type": "code",
   "execution_count": null,
   "id": "f9f3a49d-3778-4e0d-8b19-4286af6e4484",
   "metadata": {},
   "outputs": [],
   "source": [
    "#pip install -qU langchain-core langchain-mistralai"
   ]
  },
  {
   "cell_type": "code",
   "execution_count": 1,
   "id": "3535bd90-790f-47bf-9a27-e01cf8bc2cf8",
   "metadata": {},
   "outputs": [],
   "source": [
    "import time"
   ]
  },
  {
   "cell_type": "code",
   "execution_count": 2,
   "id": "495a1968-fe77-4f1c-9394-abc4dc796cd2",
   "metadata": {},
   "outputs": [],
   "source": [
    "import os\n",
    "from langchain.llms import Ollama\n",
    "from langchain_community.chat_models import ChatOllama\n",
    "from langchain.vectorstores.neo4j_vector import Neo4jVector\n",
    "from langchain_core.output_parsers import StrOutputParser\n",
    "from langchain_core.runnables import RunnablePassthrough\n",
    "from langchain.prompts import PromptTemplate\n",
    "from langchain.chains import RetrievalQA\n",
    "from langchain.callbacks.manager import CallbackManager\n",
    "from langchain.callbacks.streaming_stdout import StreamingStdOutCallbackHandler\n",
    "from langchain.embeddings import HuggingFaceEmbeddings"
   ]
  },
  {
   "cell_type": "code",
   "execution_count": 3,
   "id": "8f02f050-9b17-4f26-baba-c5537327e72d",
   "metadata": {},
   "outputs": [],
   "source": [
    "import ChatTestDB as log\n",
    "import Harry_Potter_questions as HP"
   ]
  },
  {
   "cell_type": "code",
   "execution_count": 14,
   "id": "6d9d9d51-e112-4e05-8925-cf235d5cb60c",
   "metadata": {},
   "outputs": [],
   "source": [
    "import importlib"
   ]
  },
  {
   "cell_type": "code",
   "execution_count": null,
   "id": "03857bea-250e-4aad-98bf-db1e6bdd051e",
   "metadata": {},
   "outputs": [],
   "source": [
    "#Vi har testet begge men går med llama3"
   ]
  },
  {
   "cell_type": "code",
   "execution_count": 26,
   "id": "7b1c9c62-2848-4fc6-b4c1-3787aff12b14",
   "metadata": {},
   "outputs": [],
   "source": [
    "#llm = ChatOllama(model=\"tomasonjo/llama3-text2cypher-demo\")"
   ]
  },
  {
   "cell_type": "code",
   "execution_count": 4,
   "id": "8280a53c-2fd8-4086-8dbf-cb62d532ecaf",
   "metadata": {},
   "outputs": [],
   "source": [
    "llm = ChatOllama(model=\"llama3\")"
   ]
  },
  {
   "cell_type": "code",
   "execution_count": 19,
   "id": "c4a4e5ca-acd9-4f65-89a6-72aad503a791",
   "metadata": {},
   "outputs": [],
   "source": [
    "#llm = ChatOllama(model=\"mistral\")"
   ]
  },
  {
   "cell_type": "code",
   "execution_count": 34,
   "id": "026314ba-2e9a-4c35-b385-c4cf07591954",
   "metadata": {},
   "outputs": [],
   "source": [
    "#llm = Ollama(model=\"mistral\", callback_manager = CallbackManager([StreamingStdOutCallbackHandler()]))"
   ]
  },
  {
   "cell_type": "code",
   "execution_count": 39,
   "id": "7d3253f7-9a6f-4ecb-bfdf-44c279e5fa19",
   "metadata": {},
   "outputs": [],
   "source": [
    "#llm = Ollama(model=\"llama3\", callback_manager = CallbackManager([StreamingStdOutCallbackHandler()]))"
   ]
  },
  {
   "cell_type": "code",
   "execution_count": 5,
   "id": "bdbedbb8-a8c8-4937-85a4-d2d87acb3e0e",
   "metadata": {},
   "outputs": [],
   "source": [
    "url = \"bolt://localhost:7687\"\n",
    "username = \"neo4j\"\n",
    "password = \"pleaseletmein\""
   ]
  },
  {
   "cell_type": "code",
   "execution_count": 6,
   "id": "e45e7bd2-408d-45c1-a427-3bb713156b31",
   "metadata": {},
   "outputs": [],
   "source": [
    "model_name = \"sentence-transformers/all-mpnet-base-v2\"\n",
    "model_kwargs = {'device': 'cpu'}\n",
    "encode_kwargs = {'normalize_embeddings': False}"
   ]
  },
  {
   "cell_type": "code",
   "execution_count": 7,
   "id": "9e2cf864-64d7-4647-936f-d63ea7fb7a7d",
   "metadata": {},
   "outputs": [],
   "source": [
    "embeddings = HuggingFaceEmbeddings(\n",
    "    model_name=model_name,\n",
    "    model_kwargs=model_kwargs,\n",
    "    encode_kwargs=encode_kwargs\n",
    ")"
   ]
  },
  {
   "cell_type": "code",
   "execution_count": 8,
   "id": "95cdd235-637e-4455-94e9-3b056af92842",
   "metadata": {},
   "outputs": [],
   "source": [
    "vector_index = Neo4jVector.from_existing_graph(\n",
    "    embeddings,\n",
    "    url=url,\n",
    "    username=username,\n",
    "    password=password,\n",
    "    index_name='persons',\n",
    "    node_label=[\"Person\", 'Location', 'Skill', 'Organization', 'Award', \"Country\", 'Religion' ],\n",
    "    text_node_properties=['name', \"positionHeld\", \"causeOfDeath\", \"dateOfBirth\", \"numberOfChildren\", \"academicDegree\", \"dateOfDeath\", \"age\", \"productType\", \"foundingDate\" ],\n",
    "    embedding_node_property='embedding',\n",
    ")"
   ]
  },
  {
   "cell_type": "code",
   "execution_count": 8,
   "id": "53eea81c-397d-4b17-9e5b-2fe4b3759a10",
   "metadata": {},
   "outputs": [
    {
     "name": "stdout",
     "output_type": "stream",
     "text": [
      "\n",
      "name: Merope Gaunt\n",
      "positionHeld: \n",
      "causeOfDeath: \n",
      "dateOfBirth: \n",
      "numberOfChildren: \n",
      "academicDegree: \n",
      "dateOfDeath: \n",
      "age: \n",
      "productType: \n",
      "foundingDate: \n"
     ]
    }
   ],
   "source": [
    "response = vector_index.similarity_search(\n",
    "    \"who is Merope Gaunts son?\"\n",
    ")\n",
    "print(response[0].page_content)"
   ]
  },
  {
   "cell_type": "markdown",
   "id": "4562561c-8bc2-4d34-bf22-644a19a69bc7",
   "metadata": {},
   "source": [
    "# LLM"
   ]
  },
  {
   "cell_type": "code",
   "execution_count": 9,
   "id": "73549beb-fd7f-4239-9806-b244882e65ff",
   "metadata": {},
   "outputs": [],
   "source": [
    "template = \"\"\"Use the following pieces of context to answer the question at the end. \n",
    "If you don't know the answer, just say that you don't know, don't try to make up an answer. \n",
    "Use five sentences maximum. Keep the answer as concise as possible. \n",
    "Always say \"thanks for asking!\" at the end of the answer. \n",
    "\n",
    "{context}\n",
    "\n",
    "Question: {question}\n",
    "\n",
    "Helpful Answer:\n",
    "\"\"\""
   ]
  },
  {
   "cell_type": "code",
   "execution_count": 10,
   "id": "82fe4447-d1aa-4972-990e-495649c6a36a",
   "metadata": {},
   "outputs": [],
   "source": [
    "prompt = PromptTemplate.from_template(template)"
   ]
  },
  {
   "cell_type": "code",
   "execution_count": 40,
   "id": "7a3c9504-a88c-4b2a-af31-e894b1e5fb14",
   "metadata": {},
   "outputs": [],
   "source": [
    "vector_qa = RetrievalQA.from_chain_type(\n",
    "    llm=llm,\n",
    "    chain_type=\"stuff\",\n",
    "    retriever=vector_index.as_retriever(),\n",
    "    chain_type_kwargs={\"prompt\": prompt}\n",
    ")"
   ]
  },
  {
   "cell_type": "raw",
   "id": "5c1ba5bf-e8c0-458d-8f80-0b4c518ce672",
   "metadata": {},
   "source": [
    "Time test:\n",
    "question: \"who is Merope Gaunts son?\"\n",
    "ChatOllama llama3: 1.4541802962621053 \"I don't know the answer to this question. Thanks for asking!\"\n",
    "ChatOllama Mistral: 6.279920554161071 \" Merope Gaunt is the mother of Morfin Gaunt. There is no information provided about her children being referred to as \"Meropes son.\" Thanks for asking!\"\n",
    "ChatOllama tomasonjo/llama3-text2cypher-demo: 3.577417798837026 \"Merope Gaunt's son is Morfin Gaunt. Thanks for asking!\"\n",
    "Ollama Mistral: 8.763297061125437 \"Merop Gaunt is the mother of Morfin Gaunt. Therefore, Morfin is Merope's son.\"\n",
    "Ollama llama3: 8.99040089448293 \"I don't know the answer to that question because there is no information provided about Merope Gaunt's children. Thanks for asking!\""
   ]
  },
  {
   "cell_type": "code",
   "execution_count": 41,
   "id": "8174b944-4e0e-46a3-8501-1721413ef9ce",
   "metadata": {},
   "outputs": [
    {
     "name": "stdout",
     "output_type": "stream",
     "text": [
      "I don't know the answer to that question because there is no information provided about Merope Gaunt's children. Thanks for asking!I don't know the answer to that question because there is no information provided about Merope Gaunt's children. Thanks for asking!\n",
      "8.99040089448293\n"
     ]
    }
   ],
   "source": [
    "start = time.time()\n",
    "res = vector_qa.invoke(\"who is Merope Gaunts son?\")\n",
    "end = time.time()\n",
    "print(res['result'])\n",
    "print((end - start)/60)"
   ]
  },
  {
   "cell_type": "raw",
   "id": "a1ba4164-a17a-452d-85a8-6ff456dba3e7",
   "metadata": {},
   "source": [
    "Time test:\n",
    "question: \"who is Merope Gaunts son?\"\n",
    "ChatOllama llama3: 2.294129506746928 \"I don't know the answer to this question. Thanks for asking!\"\n",
    "ChatOllama Mistral: 1.789849869410197 \" Merope Gaunt does not have a documented son in the given context. Thanks for asking!\"\n",
    "ChatOllama tomasonjo/llama3-text2cypher-demo: 3.7482089757919312 \"Merope Gaunt's cause of death suggests that she died in her early 20s, and since there is no mention of any children or an academic degree, it can be inferred that she did not have any children. Therefore, I don't know who Merope Gaunt's son would be.\"\n",
    "Ollama Mistral: 5.615174663066864 \" Merope Gaunt did not have a documented son in the provided context. Thanks for asking! Merope Gaunt did not have a documented son in the provided context. Thanks for asking!\"\n",
    "Ollama llama3: 10.052893205483754 \"\""
   ]
  },
  {
   "cell_type": "code",
   "execution_count": 42,
   "id": "db003091-dbfb-459e-8f08-4a36009f8eb4",
   "metadata": {},
   "outputs": [],
   "source": [
    "rag_chain = (\n",
    "    {\"context\": vector_index.as_retriever(), \"question\": RunnablePassthrough()}\n",
    "    | prompt\n",
    "    | llm\n",
    "    | StrOutputParser()\n",
    ")"
   ]
  },
  {
   "cell_type": "code",
   "execution_count": 43,
   "id": "5bbd9d1d-3a21-4bf8-ba49-c0aecb4482c9",
   "metadata": {},
   "outputs": [
    {
     "name": "stdout",
     "output_type": "stream",
     "text": [
      "I don't have enough information to answer that question. The provided documents only contain general information about individuals, but not specific relationships or family connections. Therefore, I cannot determine the parentage of Merope Gaunt's children. Thanks for asking!I don't have enough information to answer that question. The provided documents only contain general information about individuals, but not specific relationships or family connections. Therefore, I cannot determine the parentage of Merope Gaunt's children. Thanks for asking!\n",
      "10.052893205483754\n"
     ]
    }
   ],
   "source": [
    "start = time.time()\n",
    "res = rag_chain.invoke(\"who is Merope Gaunts son?\")\n",
    "end = time.time()\n",
    "print(res)\n",
    "print((end - start)/60)"
   ]
  },
  {
   "cell_type": "markdown",
   "id": "42bf3cea-f3b3-4bee-b4cd-188b33e2fbab",
   "metadata": {},
   "source": [
    "# Test of awnsers"
   ]
  },
  {
   "cell_type": "code",
   "execution_count": 11,
   "id": "f1941e98-d530-4bee-aa63-b30bcf50bf21",
   "metadata": {},
   "outputs": [],
   "source": [
    "vector_qa = RetrievalQA.from_chain_type(\n",
    "    llm=llm,\n",
    "    chain_type=\"stuff\",\n",
    "    retriever=vector_index.as_retriever(),\n",
    "    chain_type_kwargs={\"prompt\": prompt}\n",
    ")"
   ]
  },
  {
   "cell_type": "code",
   "execution_count": 15,
   "id": "2f77588c-4b03-43ee-91dd-51644e3bf1ac",
   "metadata": {},
   "outputs": [
    {
     "data": {
      "text/plain": [
       "<module 'ChatTestDB' from 'C:\\\\Users\\\\linew\\\\Documents\\\\SOFT_sem2\\\\Machine_Learning\\\\ai_exam\\\\ChatTestDB.py'>"
      ]
     },
     "execution_count": 15,
     "metadata": {},
     "output_type": "execute_result"
    }
   ],
   "source": [
    "importlib.reload(log)"
   ]
  },
  {
   "cell_type": "code",
   "execution_count": 65,
   "id": "7f6e1f00-296a-4827-bef0-ff42eb529393",
   "metadata": {},
   "outputs": [],
   "source": [
    "log.LogChat(3, \"graph\", HP.question1, \"test\", 1)"
   ]
  },
  {
   "cell_type": "code",
   "execution_count": 44,
   "id": "7376e93f-9a42-4b0e-8d64-aa8e6d360d3d",
   "metadata": {},
   "outputs": [
    {
     "name": "stdout",
     "output_type": "stream",
     "text": [
      "According to the provided context, there is no information about Harry Potter's wand. Therefore, I don't know.\n",
      "\n",
      "Thanks for asking!\n",
      "1.3826561053593953\n"
     ]
    }
   ],
   "source": [
    "start = time.time()\n",
    "res = vector_qa.invoke(HP.question1)\n",
    "end = time.time()\n",
    "times =(end - start)/60\n",
    "log.LogChat(3, \"graph\", HP.question1, res['result'], times)\n",
    "print(res['result'])\n",
    "print(times)"
   ]
  },
  {
   "cell_type": "code",
   "execution_count": 45,
   "id": "9e143767-594c-4e74-bfc5-ac9a5d744988",
   "metadata": {},
   "outputs": [
    {
     "name": "stdout",
     "output_type": "stream",
     "text": [
      "Based on the provided context, there is no information about Riddle-Harry. However, I can tell you that Harry Potter's Hogwarts house is Gryffindor.\n",
      "\n",
      "Thanks for asking!\n",
      "1.4154738465944925\n"
     ]
    }
   ],
   "source": [
    "start = time.time()\n",
    "res = vector_qa.invoke(HP.question2)\n",
    "end = time.time()\n",
    "times =(end - start)/60\n",
    "log.LogChat(3, \"graph\", HP.question2, res['result'], times)\n",
    "print(res['result'])\n",
    "print(times)"
   ]
  },
  {
   "cell_type": "code",
   "execution_count": 46,
   "id": "32e48b00-8058-4b42-bbf3-156c1765922e",
   "metadata": {},
   "outputs": [
    {
     "name": "stdout",
     "output_type": "stream",
     "text": [
      "Merope Gaunt was Bellatrix's mother. Thanks for asking!\n",
      "1.2134500026702881\n"
     ]
    }
   ],
   "source": [
    "start = time.time()\n",
    "res = vector_qa.invoke(HP.question3)\n",
    "end = time.time()\n",
    "times =(end - start)/60\n",
    "log.LogChat(3, \"graph\", HP.question3, res['result'], times)\n",
    "print(res['result'])\n",
    "print(times)"
   ]
  },
  {
   "cell_type": "code",
   "execution_count": 47,
   "id": "aa9d5327-dc43-4881-b623-7e5745cd11a2",
   "metadata": {},
   "outputs": [
    {
     "name": "stdout",
     "output_type": "stream",
     "text": [
      "Merope Gaunt's son is Morfin Gaunt. Thanks for asking!\n",
      "1.320678448677063\n"
     ]
    }
   ],
   "source": [
    "start = time.time()\n",
    "res = vector_qa.invoke(HP.question4)\n",
    "end = time.time()\n",
    "times =(end - start)/60\n",
    "log.LogChat(3, \"graph\", HP.question4, res['result'], times)\n",
    "print(res['result'])\n",
    "print(times)"
   ]
  },
  {
   "cell_type": "code",
   "execution_count": 48,
   "id": "d4df2e3e-5480-4e54-ae83-c137be060ebd",
   "metadata": {},
   "outputs": [
    {
     "name": "stdout",
     "output_type": "stream",
     "text": [
      "Based on the given context, it appears that Scorpius Malfoy is a character related to Severus Snape. James Potter and Remus Lupin are known for creating the Marauder's Map.\n",
      "\n",
      "Answer: James Potter and Remus Lupin created the Marauder's Map.\n",
      "\n",
      "Thanks for asking!\n",
      "1.9377043485641479\n"
     ]
    }
   ],
   "source": [
    "start = time.time()\n",
    "res = vector_qa.invoke(HP.question5)\n",
    "end = time.time()\n",
    "times =(end - start)/60\n",
    "log.LogChat(3, \"graph\", HP.question5, res['result'], times)\n",
    "print(res['result'])\n",
    "print(times)"
   ]
  },
  {
   "cell_type": "code",
   "execution_count": 49,
   "id": "4247a77c-38a5-41e6-85f3-7060ac0293e9",
   "metadata": {},
   "outputs": [
    {
     "name": "stdout",
     "output_type": "stream",
     "text": [
      "The Half-Blood Prince! That would be Severus Snape, a Potions Master. Thanks for asking!\n",
      "1.2251324295997619\n"
     ]
    }
   ],
   "source": [
    "start = time.time()\n",
    "res = vector_qa.invoke(HP.question6)\n",
    "end = time.time()\n",
    "times =(end - start)/60\n",
    "log.LogChat(3, \"graph\", HP.question6, res['result'], times)\n",
    "print(res['result'])\n",
    "print(times)"
   ]
  },
  {
   "cell_type": "code",
   "execution_count": 50,
   "id": "cee478a9-03be-465a-ba7c-a6df97e1e9ce",
   "metadata": {},
   "outputs": [
    {
     "name": "stdout",
     "output_type": "stream",
     "text": [
      "According to the Harry Potter series, Draco Malfoy and his descendants are considered the heirs of Salazar Slytherin. Thanks for asking!\n",
      "1.3162723739941915\n"
     ]
    }
   ],
   "source": [
    "start = time.time()\n",
    "res = vector_qa.invoke(HP.question7)\n",
    "end = time.time()\n",
    "times =(end - start)/60\n",
    "log.LogChat(3, \"graph\", HP.question7, res['result'], times)\n",
    "print(res['result'])\n",
    "print(times)"
   ]
  },
  {
   "cell_type": "code",
   "execution_count": 51,
   "id": "4d0a6425-77f0-4247-ad20-670ce11c3218",
   "metadata": {},
   "outputs": [
    {
     "name": "stdout",
     "output_type": "stream",
     "text": [
      "According to the provided context, Albus Dumbledore was the Headmaster of Hogwarts. Thanks for asking!\n",
      "1.3256601333618163\n"
     ]
    }
   ],
   "source": [
    "start = time.time()\n",
    "res = vector_qa.invoke(HP.question8)\n",
    "end = time.time()\n",
    "times =(end - start)/60\n",
    "log.LogChat(3, \"graph\", HP.question8, res['result'], times)\n",
    "print(res['result'])\n",
    "print(times)"
   ]
  },
  {
   "cell_type": "code",
   "execution_count": 52,
   "id": "215e8204-b79e-445d-a113-fdb8c8ea0437",
   "metadata": {},
   "outputs": [
    {
     "name": "stdout",
     "output_type": "stream",
     "text": [
      "Voldemort created 7 Horcruxes. Thanks for asking!\n",
      "1.3104245742162068\n"
     ]
    }
   ],
   "source": [
    "start = time.time()\n",
    "res = vector_qa.invoke(HP.question9)\n",
    "end = time.time()\n",
    "times =(end - start)/60\n",
    "log.LogChat(3, \"graph\", HP.question9, res['result'], times)\n",
    "print(res['result'])\n",
    "print(times)"
   ]
  },
  {
   "cell_type": "code",
   "execution_count": 53,
   "id": "ea4ad732-16c2-4534-be17-4075b3cfec03",
   "metadata": {},
   "outputs": [
    {
     "name": "stdout",
     "output_type": "stream",
     "text": [
      "There is no information provided about Ravenclaw, Draco Malfoy, or Slytherin in terms of their positions held, product type, or founding date. However, according to the Harry Potter series by J.K. Rowling, there are three Deathly Hallows: the Elder Wand, the Resurrection Stone, and the Cloak of Invisibility.\n",
      "\n",
      "Thanks for asking!\n",
      "2.1068972826004027\n"
     ]
    }
   ],
   "source": [
    "start = time.time()\n",
    "res = vector_qa.invoke(HP.question10)\n",
    "end = time.time()\n",
    "times =(end - start)/60\n",
    "log.LogChat(3, \"graph\", HP.question10, res['result'], times)\n",
    "print(res['result'])\n",
    "print(times)"
   ]
  },
  {
   "cell_type": "code",
   "execution_count": 54,
   "id": "54a7591c-2fda-4784-b1e7-7ae201cfc607",
   "metadata": {},
   "outputs": [
    {
     "name": "stdout",
     "output_type": "stream",
     "text": [
      "I can help you with that! According to the Harry Potter series, the entrance to the Chamber of Secrets is behind a tapestry in Moaning Myrtle's bathroom at Hogwarts School of Witchcraft and Wizardry. Thanks for asking!\n",
      "1.6099642992019654\n"
     ]
    }
   ],
   "source": [
    "start = time.time()\n",
    "res = vector_qa.invoke(HP.question11)\n",
    "end = time.time()\n",
    "times =(end - start)/60\n",
    "log.LogChat(3, \"graph\", HP.question11, res['result'], times)\n",
    "print(res['result'])\n",
    "print(times)"
   ]
  },
  {
   "cell_type": "code",
   "execution_count": 55,
   "id": "68d96909-b383-4228-8789-957965c9b510",
   "metadata": {},
   "outputs": [
    {
     "name": "stdout",
     "output_type": "stream",
     "text": [
      "Based on the provided context, I don't have enough information to answer your question. The pieces of context only provide information about Draco Malfoy's name and positions held, but not specifically about a house elf serving the Malfoy family.\n",
      "\n",
      "Thanks for asking!\n",
      "1.7898398478825888\n"
     ]
    }
   ],
   "source": [
    "start = time.time()\n",
    "res = vector_qa.invoke(HP.question12)\n",
    "end = time.time()\n",
    "times =(end - start)/60\n",
    "log.LogChat(3, \"graph\", HP.question12, res['result'], times)\n",
    "print(res['result'])\n",
    "print(times)"
   ]
  },
  {
   "cell_type": "code",
   "execution_count": 56,
   "id": "cfe6020d-7b1a-4cb3-b976-4d050b93f147",
   "metadata": {},
   "outputs": [
    {
     "name": "stdout",
     "output_type": "stream",
     "text": [
      "The name of the goblin that helps Harry break into Gringotts is Griphook. Thanks for asking!\n",
      "1.4505933364232382\n"
     ]
    }
   ],
   "source": [
    "start = time.time()\n",
    "res = vector_qa.invoke(HP.question13)\n",
    "end = time.time()\n",
    "times =(end - start)/60\n",
    "log.LogChat(3, \"graph\", HP.question13, res['result'], times)\n",
    "print(res['result'])\n",
    "print(times)"
   ]
  },
  {
   "cell_type": "code",
   "execution_count": 57,
   "id": "493b079e-15a1-403b-aa19-ff6c918b755d",
   "metadata": {},
   "outputs": [
    {
     "name": "stdout",
     "output_type": "stream",
     "text": [
      "Sirius Black was James Sirius Potter's godfather and uncle, being the brother of Lily Evans Potter. Thanks for asking!\n",
      "1.4409717957178751\n"
     ]
    }
   ],
   "source": [
    "start = time.time()\n",
    "res = vector_qa.invoke(HP.question14)\n",
    "end = time.time()\n",
    "times =(end - start)/60\n",
    "log.LogChat(3, \"graph\", HP.question14, res['result'], times)\n",
    "print(res['result'])\n",
    "print(times)"
   ]
  },
  {
   "cell_type": "code",
   "execution_count": 58,
   "id": "74df3e3b-6bc4-403e-a38a-34e0fbef0819",
   "metadata": {},
   "outputs": [
    {
     "name": "stdout",
     "output_type": "stream",
     "text": [
      "I don't know the answer to this question. Thanks for asking!\n",
      "1.2110074877738952\n"
     ]
    }
   ],
   "source": [
    "start = time.time()\n",
    "res = vector_qa.invoke(HP.question15)\n",
    "end = time.time()\n",
    "times =(end - start)/60\n",
    "log.LogChat(3, \"graph\", HP.question15, res['result'], times)\n",
    "print(res['result'])\n",
    "print(times)"
   ]
  },
  {
   "cell_type": "code",
   "execution_count": 59,
   "id": "5f6a3fac-e727-4d09-8af4-0a20ebbd8903",
   "metadata": {},
   "outputs": [
    {
     "name": "stdout",
     "output_type": "stream",
     "text": [
      "The context doesn't provide enough information to answer the question. The names mentioned are Helga Hufflepuff, Riddle-Harry (which seems incorrect), and Draco Malfoy, but none of them seem related to hippogriffs.\n",
      "\n",
      "I don't know. Thanks for asking!\n",
      "2.0092179695765178\n"
     ]
    }
   ],
   "source": [
    "start = time.time()\n",
    "res = vector_qa.invoke(HP.question16)\n",
    "end = time.time()\n",
    "times =(end - start)/60\n",
    "log.LogChat(3, \"graph\", HP.question16, res['result'], times)\n",
    "print(res['result'])\n",
    "print(times)"
   ]
  },
  {
   "cell_type": "code",
   "execution_count": 60,
   "id": "54eb3559-01bd-42f9-bbea-1a5a85e7f1a5",
   "metadata": {},
   "outputs": [
    {
     "name": "stdout",
     "output_type": "stream",
     "text": [
      "Based on the provided context, I can tell you that there isn't any information about a specific ghost associated with Ravenclaw House. However, Hogwarts does have a ghostly student known as the White Lady, who is said to haunt the corridors of Ravenclaw Tower.\n",
      "\n",
      "Thanks for asking!\n",
      "1.8669166604677836\n"
     ]
    }
   ],
   "source": [
    "start = time.time()\n",
    "res = vector_qa.invoke(HP.question17)\n",
    "end = time.time()\n",
    "times =(end - start)/60\n",
    "log.LogChat(3, \"graph\", HP.question17, res['result'], times)\n",
    "print(res['result'])\n",
    "print(times)"
   ]
  },
  {
   "cell_type": "code",
   "execution_count": 61,
   "id": "23176372-1c69-4647-b0c2-91645820d3b3",
   "metadata": {},
   "outputs": [
    {
     "name": "stdout",
     "output_type": "stream",
     "text": [
      "I don't know! Thanks for asking!\n",
      "1.0642221609751383\n"
     ]
    }
   ],
   "source": [
    "start = time.time()\n",
    "res = vector_qa.invoke(HP.question18)\n",
    "end = time.time()\n",
    "times =(end - start)/60\n",
    "log.LogChat(3, \"graph\", HP.question18, res['result'], times)\n",
    "print(res['result'])\n",
    "print(times)"
   ]
  },
  {
   "cell_type": "code",
   "execution_count": 62,
   "id": "22237210-e8e9-45af-a9fc-ba0d5bc7fb05",
   "metadata": {},
   "outputs": [
    {
     "name": "stdout",
     "output_type": "stream",
     "text": [
      "Based on the provided context, I found information about three Weasleys: Ginevra, Barny, and Ron. Since their family name is \"Weasley\", it can be inferred that they are siblings.\n",
      "\n",
      "Ginevra has 3 children, suggesting she is a parent, but her sibling count is not specified. Barny's and Ron's sibling counts are also unknown. However, we can assume all three are siblings since they share the same family name.\n",
      "\n",
      "To answer your question: I don't know the exact number of Weasley siblings without more information. Thanks for asking!\n",
      "2.6581976691881817\n"
     ]
    }
   ],
   "source": [
    "start = time.time()\n",
    "res = vector_qa.invoke(HP.question19)\n",
    "end = time.time()\n",
    "times =(end - start)/60\n",
    "log.LogChat(3, \"graph\", HP.question19, res['result'], times)\n",
    "print(res['result'])\n",
    "print(times)"
   ]
  },
  {
   "cell_type": "code",
   "execution_count": 63,
   "id": "eb65ff6a-8b64-4829-8a81-c462ebf46086",
   "metadata": {},
   "outputs": [
    {
     "name": "stdout",
     "output_type": "stream",
     "text": [
      "According to the provided context, there are only three Weasley siblings mentioned: Ginevra, Panju, and Barny. Since you only provide information about their numbers of children, it seems that two out of these three siblings have more than one child (Ginevra has 3 children), while the third sibling's number of children is unknown.\n",
      "\n",
      "However, without further information about the dates of birth or ages of each sibling, I cannot determine who the youngest Weasley sibling is. Therefore, my answer would be: \"I don't know.\" Thanks for asking!\n",
      "2.283704725901286\n"
     ]
    }
   ],
   "source": [
    "start = time.time()\n",
    "res = vector_qa.invoke(HP.question20)\n",
    "end = time.time()\n",
    "times =(end - start)/60\n",
    "log.LogChat(3, \"graph\", HP.question20, res['result'], times)\n",
    "print(res['result'])\n",
    "print(times)"
   ]
  },
  {
   "cell_type": "code",
   "execution_count": null,
   "id": "7772bcf6-8df9-4713-8203-7c722044055d",
   "metadata": {},
   "outputs": [],
   "source": []
  }
 ],
 "metadata": {
  "kernelspec": {
   "display_name": "Python 3 (ipykernel)",
   "language": "python",
   "name": "python3"
  },
  "language_info": {
   "codemirror_mode": {
    "name": "ipython",
    "version": 3
   },
   "file_extension": ".py",
   "mimetype": "text/x-python",
   "name": "python",
   "nbconvert_exporter": "python",
   "pygments_lexer": "ipython3",
   "version": "3.11.5"
  }
 },
 "nbformat": 4,
 "nbformat_minor": 5
}
