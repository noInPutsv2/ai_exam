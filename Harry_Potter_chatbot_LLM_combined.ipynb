{
 "cells": [
  {
   "cell_type": "markdown",
   "id": "67e753a5-6d4f-4a1d-bd97-69470dd6f7f5",
   "metadata": {},
   "source": [
    "# set up"
   ]
  },
  {
   "cell_type": "code",
   "execution_count": 32,
   "id": "f38a70a2-5646-4ea7-aab3-ab784a29adce",
   "metadata": {},
   "outputs": [],
   "source": [
    "import time"
   ]
  },
  {
   "cell_type": "code",
   "execution_count": 16,
   "id": "52f1aa95-e3e4-4ec1-b077-2edc6f794f9f",
   "metadata": {},
   "outputs": [],
   "source": [
    "from langchain.embeddings import HuggingFaceEmbeddings\n",
    "from langchain_community.chat_models import ChatOllama\n",
    "from langchain.chains import RetrievalQA\n",
    "from langchain.prompts import PromptTemplate\n",
    "from langchain.vectorstores.neo4j_vector import Neo4jVector"
   ]
  },
  {
   "cell_type": "code",
   "execution_count": 9,
   "id": "5515c1ff-f42d-4b74-a82f-ed3b52a8da96",
   "metadata": {},
   "outputs": [],
   "source": [
    "import Vector_database_functions as db\n",
    "import ChatTestDB as log\n",
    "import Harry_Potter_questions as HP"
   ]
  },
  {
   "cell_type": "markdown",
   "id": "3e64fe6b-7f3e-4ea9-a440-fa5ac19eb76e",
   "metadata": {},
   "source": [
    "# Embeddings"
   ]
  },
  {
   "cell_type": "code",
   "execution_count": 10,
   "id": "5ac079bc-06c6-4c1d-ad73-8fe0364c1584",
   "metadata": {},
   "outputs": [],
   "source": [
    "model_name = \"sentence-transformers/all-mpnet-base-v2\"\n",
    "# model_name = \"sentence-transformers/all-MiniLM-l6-v2\"\n",
    "model_kwargs = {'device': 'cpu'}\n",
    "encode_kwargs = {'normalize_embeddings': False}"
   ]
  },
  {
   "cell_type": "code",
   "execution_count": 11,
   "id": "14e77b4c-3df8-4a86-bf81-bb87710691ee",
   "metadata": {},
   "outputs": [],
   "source": [
    "embeddings = HuggingFaceEmbeddings(\n",
    "    model_name=model_name,\n",
    "    model_kwargs=model_kwargs,\n",
    "    encode_kwargs=encode_kwargs\n",
    ")"
   ]
  },
  {
   "cell_type": "code",
   "execution_count": 12,
   "id": "e0e3024b-4134-431e-9b57-8a0828ce8838",
   "metadata": {},
   "outputs": [],
   "source": [
    "# Get Data"
   ]
  },
  {
   "cell_type": "code",
   "execution_count": 13,
   "id": "71af5c8f-e0c9-497a-b142-f0466e1ac83c",
   "metadata": {},
   "outputs": [],
   "source": [
    "vectordb = db.get_db( \"Harry_Potter\", \"data/Chroma/\", embeddings)"
   ]
  },
  {
   "cell_type": "code",
   "execution_count": 14,
   "id": "4f09472b-e0e6-42ac-92df-b72657e8410f",
   "metadata": {},
   "outputs": [],
   "source": [
    "url = \"bolt://localhost:7687\"\n",
    "username = \"neo4j\"\n",
    "password = \"pleaseletmein\""
   ]
  },
  {
   "cell_type": "code",
   "execution_count": 17,
   "id": "1f28cb26-e6ca-4605-afce-11c54e6504c6",
   "metadata": {},
   "outputs": [],
   "source": [
    "vector_index = Neo4jVector.from_existing_graph(\n",
    "    embeddings,\n",
    "    url=url,\n",
    "    username=username,\n",
    "    password=password,\n",
    "    index_name='persons',\n",
    "    node_label=[\"Person\", 'Location', 'Skill', 'Organization', 'Award', \"Country\", 'Religion' ],\n",
    "    text_node_properties=['name', \"positionHeld\", \"causeOfDeath\", \"dateOfBirth\", \"numberOfChildren\", \"academicDegree\", \"dateOfDeath\", \"age\", \"productType\", \"foundingDate\" ],\n",
    "    embedding_node_property='embedding',\n",
    ")"
   ]
  },
  {
   "cell_type": "markdown",
   "id": "01b9424d-fb30-4901-8dd8-773e878ae63e",
   "metadata": {},
   "source": [
    "# LLM"
   ]
  },
  {
   "cell_type": "code",
   "execution_count": 18,
   "id": "422745e8-b730-42f5-841b-c4fcb8086110",
   "metadata": {},
   "outputs": [],
   "source": [
    "llm = ChatOllama(model=\"llama3\")"
   ]
  },
  {
   "cell_type": "code",
   "execution_count": 19,
   "id": "f28a4365-af22-40a2-8cfb-8b574bf23752",
   "metadata": {},
   "outputs": [],
   "source": [
    "template = \"\"\"Use the following pieces of context to answer the question at the end. \n",
    "If you don't know the answer, just say that you don't know, don't try to make up an answer. \n",
    "Use five sentences maximum. Keep the answer as concise as possible. \n",
    "Always say \"thanks for asking!\" at the end of the answer. \n",
    "\n",
    "{context}\n",
    "\n",
    "Question: {question}\n",
    "\n",
    "Helpful Answer:\n",
    "\"\"\""
   ]
  },
  {
   "cell_type": "code",
   "execution_count": 20,
   "id": "9855321a-6d90-4508-8323-c3266b800b76",
   "metadata": {},
   "outputs": [],
   "source": [
    "prompt = PromptTemplate.from_template(template)"
   ]
  },
  {
   "cell_type": "code",
   "execution_count": 27,
   "id": "17088cc9-c65d-4428-910c-b28e1f6817af",
   "metadata": {},
   "outputs": [],
   "source": [
    "question = HP.question1"
   ]
  },
  {
   "cell_type": "code",
   "execution_count": 22,
   "id": "c02e402f-6c35-4f7e-a9ae-c0f35269c3df",
   "metadata": {},
   "outputs": [],
   "source": [
    "vector_qa = RetrievalQA.from_chain_type(\n",
    "    llm=llm,\n",
    "    chain_type=\"stuff\",\n",
    "    retriever=vector_index.as_retriever(),\n",
    "    chain_type_kwargs={\"prompt\": prompt}\n",
    ")"
   ]
  },
  {
   "cell_type": "code",
   "execution_count": 23,
   "id": "b80725c6-3531-4592-bb7c-b9d8b8d0e302",
   "metadata": {},
   "outputs": [],
   "source": [
    "chain = RetrievalQA.from_chain_type(\n",
    "    llm,\n",
    "    retriever=vectordb.as_retriever(),\n",
    "    return_source_documents=True,\n",
    "    chain_type_kwargs={\"prompt\": prompt})"
   ]
  },
  {
   "cell_type": "code",
   "execution_count": 28,
   "id": "86733609-5f2c-4f34-941d-e6523ac9f59a",
   "metadata": {},
   "outputs": [],
   "source": [
    "result = chain.invoke({\"query\": question, \"context\": vector_qa.invoke(question)})"
   ]
  },
  {
   "cell_type": "code",
   "execution_count": 29,
   "id": "e3343d6c-443a-4817-9fed-80789673421f",
   "metadata": {},
   "outputs": [
    {
     "data": {
      "text/plain": [
       "\"According to the LEGO Harry Potter: Characters of the Magical World, Harry Potter's wand is not specified in this context. The information provided only lists the characters' names and does not mention their wands.\\n\\nThanks for asking!\""
      ]
     },
     "execution_count": 29,
     "metadata": {},
     "output_type": "execute_result"
    }
   ],
   "source": [
    "result[\"result\"]"
   ]
  },
  {
   "cell_type": "markdown",
   "id": "09c54f87-6e71-4706-b410-cffde249e680",
   "metadata": {},
   "source": [
    "# Test of awnsers"
   ]
  },
  {
   "cell_type": "code",
   "execution_count": 73,
   "id": "e8d58868-bc1b-4bc8-a3a4-c4dd04b74b45",
   "metadata": {},
   "outputs": [
    {
     "name": "stdout",
     "output_type": "stream",
     "text": [
      "According to the LEGO Harry Potter series, Harry Potter's wand is an important part of his magical abilities. The answer is not explicitly stated in this context, but it can be found in the original book series by J.K. Rowling. \n",
      "\n",
      "Thanks for asking!\n",
      "4.677424649397532\n"
     ]
    }
   ],
   "source": [
    "question = HP.question1\n",
    "start = time.time()\n",
    "result = chain.invoke({\"query\": question, \"context\": vector_qa.invoke(question)})\n",
    "end = time.time()\n",
    "times = (end - start)/60\n",
    "log.LogChat(4, \"Vector_with_graph_as_context\", question, result['result'], times)\n",
    "print(result[\"result\"])\n",
    "print(times)"
   ]
  },
  {
   "cell_type": "code",
   "execution_count": 74,
   "id": "117df8f7-7334-452e-91a7-b56f9c5baae6",
   "metadata": {},
   "outputs": [
    {
     "name": "stdout",
     "output_type": "stream",
     "text": [
      "Harry Potter belongs to Gryffindor House. Thanks for asking!\n",
      "3.3670823852221172\n"
     ]
    }
   ],
   "source": [
    "question = HP.question2\n",
    "start = time.time()\n",
    "result = chain.invoke({\"query\": question, \"context\": vector_qa.invoke(question)})\n",
    "end = time.time()\n",
    "times = (end - start)/60\n",
    "log.LogChat(4, \"Vector_with_graph_as_context\", question, result['result'], times)\n",
    "print(result[\"result\"])\n",
    "print(times)"
   ]
  },
  {
   "cell_type": "code",
   "execution_count": 75,
   "id": "b2b2d7b1-6cad-41c7-9e93-e33c04ce1c09",
   "metadata": {},
   "outputs": [
    {
     "name": "stdout",
     "output_type": "stream",
     "text": [
      "Merope Gaunt was Bellatrix Lestrange's mother and the sister of Marvolo Gaunt. She was a witch who became obsessed with Tom Riddle (Lord Voldemort) and had an affair with him, resulting in Harry Potter's father, James Potter. Thanks for asking!\n",
      "2.2374295552571613\n"
     ]
    }
   ],
   "source": [
    "question = HP.question3\n",
    "start = time.time()\n",
    "result = chain.invoke({\"query\": question, \"context\": vector_qa.invoke(question)})\n",
    "end = time.time()\n",
    "times = (end - start)/60\n",
    "log.LogChat(4, \"Vector_with_graph_as_context\", question, result['result'], times)\n",
    "print(result[\"result\"])\n",
    "print(times)"
   ]
  },
  {
   "cell_type": "code",
   "execution_count": 76,
   "id": "8fb2d2c0-71de-40c4-ac87-fcec02d39841",
   "metadata": {},
   "outputs": [
    {
     "name": "stdout",
     "output_type": "stream",
     "text": [
      "I don't have enough information to answer this question. Thanks for asking!\n",
      "1.40389830271403\n"
     ]
    }
   ],
   "source": [
    "question = HP.question4\n",
    "start = time.time()\n",
    "result = chain.invoke({\"query\": question, \"context\": vector_qa.invoke(question)})\n",
    "end = time.time()\n",
    "times = (end - start)/60\n",
    "log.LogChat(4, \"Vector_with_graph_as_context\", question, result['result'], times)\n",
    "print(result[\"result\"])\n",
    "print(times)"
   ]
  },
  {
   "cell_type": "code",
   "execution_count": 77,
   "id": "95ba9e35-d425-415e-84f1-473669c024fd",
   "metadata": {},
   "outputs": [
    {
     "name": "stdout",
     "output_type": "stream",
     "text": [
      "Fred and his friends in Gryffindor House created the Marauder's Map. Thanks for asking!\n",
      "1.773429799079895\n"
     ]
    }
   ],
   "source": [
    "question = HP.question5\n",
    "start = time.time()\n",
    "result = chain.invoke({\"query\": question, \"context\": vector_qa.invoke(question)})\n",
    "end = time.time()\n",
    "times = (end - start)/60\n",
    "log.LogChat(4, \"Vector_with_graph_as_context\", question, result['result'], times)\n",
    "print(result[\"result\"])\n",
    "print(times)"
   ]
  },
  {
   "cell_type": "code",
   "execution_count": 78,
   "id": "5ad30c04-df21-47ee-b158-f5ac83004bba",
   "metadata": {},
   "outputs": [
    {
     "name": "stdout",
     "output_type": "stream",
     "text": [
      "Based on the context, I can tell you that the Half-Blood Prince refers to Severus Snape. He is a character in the Harry Potter series and is revealed to be a half-blood, meaning he has both pure-blood and non-pure-blood ancestry. Thanks for asking!\n",
      "1.9021825393040974\n"
     ]
    }
   ],
   "source": [
    "question = HP.question6\n",
    "start = time.time()\n",
    "result = chain.invoke({\"query\": question, \"context\": vector_qa.invoke(question)})\n",
    "end = time.time()\n",
    "times = (end - start)/60\n",
    "log.LogChat(4, \"Vector_with_graph_as_context\", question, result['result'], times)\n",
    "print(result[\"result\"])\n",
    "print(times)"
   ]
  },
  {
   "cell_type": "code",
   "execution_count": 79,
   "id": "ae78f296-8803-4e7a-b356-2dbc8eb62d2a",
   "metadata": {},
   "outputs": [
    {
     "name": "stdout",
     "output_type": "stream",
     "text": [
      "I don't know. Thanks for asking!\n",
      "1.8051441510518391\n"
     ]
    }
   ],
   "source": [
    "question = HP.question7\n",
    "start = time.time()\n",
    "result = chain.invoke({\"query\": question, \"context\": vector_qa.invoke(question)})\n",
    "end = time.time()\n",
    "times = (end - start)/60\n",
    "log.LogChat(4, \"Vector_with_graph_as_context\", question, result['result'], times)\n",
    "print(result[\"result\"])\n",
    "print(times)"
   ]
  },
  {
   "cell_type": "code",
   "execution_count": 80,
   "id": "06365541-22ca-4e7d-93e2-e2607faa6c45",
   "metadata": {},
   "outputs": [
    {
     "name": "stdout",
     "output_type": "stream",
     "text": [
      "I don't have that information. Thanks for asking!\n",
      "3.4496345202128094\n"
     ]
    }
   ],
   "source": [
    "question = HP.question8\n",
    "start = time.time()\n",
    "result = chain.invoke({\"query\": question, \"context\": vector_qa.invoke(question)})\n",
    "end = time.time()\n",
    "times = (end - start)/60\n",
    "log.LogChat(4, \"Vector_with_graph_as_context\", question, result['result'], times)\n",
    "print(result[\"result\"])\n",
    "print(times)"
   ]
  },
  {
   "cell_type": "code",
   "execution_count": 81,
   "id": "98e0f4aa-da9b-48e7-8f16-b12a78a1daab",
   "metadata": {},
   "outputs": [
    {
     "name": "stdout",
     "output_type": "stream",
     "text": [
      "Voldemort created a total of 7 Horcruxes. Thanks for asking!\n",
      "3.3335898796717327\n"
     ]
    }
   ],
   "source": [
    "question = HP.question9\n",
    "start = time.time()\n",
    "result = chain.invoke({\"query\": question, \"context\": vector_qa.invoke(question)})\n",
    "end = time.time()\n",
    "times = (end - start)/60\n",
    "log.LogChat(4, \"Vector_with_graph_as_context\", question, result['result'], times)\n",
    "print(result[\"result\"])\n",
    "print(times)"
   ]
  },
  {
   "cell_type": "code",
   "execution_count": 82,
   "id": "57d22542-dd93-41e5-b9b3-7fd01c650ab1",
   "metadata": {},
   "outputs": [
    {
     "name": "stdout",
     "output_type": "stream",
     "text": [
      "There are three Deathly Hallows. Thanks for asking!\n",
      "3.5062723755836487\n"
     ]
    }
   ],
   "source": [
    "question = HP.question10\n",
    "start = time.time()\n",
    "result = chain.invoke({\"query\": question, \"context\": vector_qa.invoke(question)})\n",
    "end = time.time()\n",
    "times = (end - start)/60\n",
    "log.LogChat(4, \"Vector_with_graph_as_context\", question, result['result'], times)\n",
    "print(result[\"result\"])\n",
    "print(times)"
   ]
  },
  {
   "cell_type": "code",
   "execution_count": 83,
   "id": "114c3617-4a63-4e37-9680-6fefb10414cc",
   "metadata": {},
   "outputs": [
    {
     "name": "stdout",
     "output_type": "stream",
     "text": [
      "The entrance to the Chamber of Secrets is located in the second floor bathroom at Hogwarts Castle. Thanks for asking!\n",
      "2.314288886388143\n"
     ]
    }
   ],
   "source": [
    "question = HP.question11\n",
    "start = time.time()\n",
    "result = chain.invoke({\"query\": question, \"context\": vector_qa.invoke(question)})\n",
    "end = time.time()\n",
    "times = (end - start)/60\n",
    "log.LogChat(4, \"Vector_with_graph_as_context\", question, result['result'], times)\n",
    "print(result[\"result\"])\n",
    "print(times)"
   ]
  },
  {
   "cell_type": "code",
   "execution_count": 84,
   "id": "9a4ce714-ebec-463d-97ed-70cc3e9aeb3f",
   "metadata": {},
   "outputs": [
    {
     "name": "stdout",
     "output_type": "stream",
     "text": [
      "The answer to your question is Dobby. Thanks for asking!\n",
      "1.5309942523638407\n"
     ]
    }
   ],
   "source": [
    "question = HP.question12\n",
    "start = time.time()\n",
    "result = chain.invoke({\"query\": question, \"context\": vector_qa.invoke(question)})\n",
    "end = time.time()\n",
    "times = (end - start)/60\n",
    "log.LogChat(4, \"Vector_with_graph_as_context\", question, result['result'], times)\n",
    "print(result[\"result\"])\n",
    "print(times)"
   ]
  },
  {
   "cell_type": "code",
   "execution_count": 85,
   "id": "37a0a27a-28a1-4409-8692-9899d780c50c",
   "metadata": {},
   "outputs": [
    {
     "name": "stdout",
     "output_type": "stream",
     "text": [
      "I don't know. The text doesn't mention this specific goblin helping Harry break into Gringotts. Thanks for asking!\n",
      "2.8835273067156475\n"
     ]
    }
   ],
   "source": [
    "question = HP.question13\n",
    "start = time.time()\n",
    "result = chain.invoke({\"query\": question, \"context\": vector_qa.invoke(question)})\n",
    "end = time.time()\n",
    "times = (end - start)/60\n",
    "log.LogChat(4, \"Vector_with_graph_as_context\", question, result['result'], times)\n",
    "print(result[\"result\"])\n",
    "print(times)"
   ]
  },
  {
   "cell_type": "code",
   "execution_count": 86,
   "id": "eaa4849b-f132-48de-bc54-49e692d373ba",
   "metadata": {},
   "outputs": [
    {
     "name": "stdout",
     "output_type": "stream",
     "text": [
      "According to the context, Sirius Black is Harry Potter's maternal first cousin, once removed. This means that Sirius was Harry's mother's first cousin, but they are also related through marriage. Thanks for asking!\n",
      "1.618551222483317\n"
     ]
    }
   ],
   "source": [
    "question = HP.question14\n",
    "start = time.time()\n",
    "result = chain.invoke({\"query\": question, \"context\": vector_qa.invoke(question)})\n",
    "end = time.time()\n",
    "times = (end - start)/60\n",
    "log.LogChat(4, \"Vector_with_graph_as_context\", question, result['result'], times)\n",
    "print(result[\"result\"])\n",
    "print(times)"
   ]
  },
  {
   "cell_type": "code",
   "execution_count": 87,
   "id": "25472726-98c4-42d5-b051-7be87af4a24c",
   "metadata": {},
   "outputs": [
    {
     "name": "stdout",
     "output_type": "stream",
     "text": [
      "The three-headed dog that guards the Philosopher's Stone is named Fluffy. Thanks for asking!\n",
      "3.371462380886078\n"
     ]
    }
   ],
   "source": [
    "question = HP.question15\n",
    "start = time.time()\n",
    "result = chain.invoke({\"query\": question, \"context\": vector_qa.invoke(question)})\n",
    "end = time.time()\n",
    "times = (end - start)/60\n",
    "log.LogChat(4, \"Vector_with_graph_as_context\", question, result['result'], times)\n",
    "print(result[\"result\"])\n",
    "print(times)"
   ]
  },
  {
   "cell_type": "code",
   "execution_count": 88,
   "id": "6656882b-9772-4a38-bc47-4a69521fe8e0",
   "metadata": {},
   "outputs": [
    {
     "name": "stdout",
     "output_type": "stream",
     "text": [
      "According to the Harry Potter Wiki, the hippogriff that Harry saves from execution is named Buckbeak. Thanks for asking!\n",
      "3.3960209250450135\n"
     ]
    }
   ],
   "source": [
    "question = HP.question16\n",
    "start = time.time()\n",
    "result = chain.invoke({\"query\": question, \"context\": vector_qa.invoke(question)})\n",
    "end = time.time()\n",
    "times = (end - start)/60\n",
    "log.LogChat(4, \"Vector_with_graph_as_context\", question, result['result'], times)\n",
    "print(result[\"result\"])\n",
    "print(times)"
   ]
  },
  {
   "cell_type": "code",
   "execution_count": 89,
   "id": "00e47656-8ab7-43d8-93ce-75318f05436c",
   "metadata": {},
   "outputs": [
    {
     "name": "stdout",
     "output_type": "stream",
     "text": [
      "According to the context, the ghost of Ravenclaw house is Helena Ravenclaw. Thanks for asking!\n",
      "2.5321393171946207\n"
     ]
    }
   ],
   "source": [
    "question = HP.question17\n",
    "start = time.time()\n",
    "result = chain.invoke({\"query\": question, \"context\": vector_qa.invoke(question)})\n",
    "end = time.time()\n",
    "times = (end - start)/60\n",
    "log.LogChat(4, \"Vector_with_graph_as_context\", question, result['result'], times)\n",
    "print(result[\"result\"])\n",
    "print(times)"
   ]
  },
  {
   "cell_type": "code",
   "execution_count": 90,
   "id": "a0a554a6-8bc5-4bec-93c8-0c85b267795a",
   "metadata": {},
   "outputs": [
    {
     "name": "stdout",
     "output_type": "stream",
     "text": [
      "Scabbers is the name of Ron's pet rat. Scabbers is an old, grey rat that misses a toe and was inherited by Ron from Percy. Thanks for asking!\n",
      "2.421801781654358\n"
     ]
    }
   ],
   "source": [
    "question = HP.question18\n",
    "start = time.time()\n",
    "result = chain.invoke({\"query\": question, \"context\": vector_qa.invoke(question)})\n",
    "end = time.time()\n",
    "times = (end - start)/60\n",
    "log.LogChat(4, \"Vector_with_graph_as_context\", question, result['result'], times)\n",
    "print(result[\"result\"])\n",
    "print(times)"
   ]
  },
  {
   "cell_type": "code",
   "execution_count": 91,
   "id": "6767c5b2-8398-4e96-a139-369bb5cb4230",
   "metadata": {},
   "outputs": [
    {
     "name": "stdout",
     "output_type": "stream",
     "text": [
      "There are seven Weasley siblings: Bill, Charlie, Fred, George, Ginny, Molly (the twins), and Percy. Thanks for asking!\n",
      "2.5810751080513\n"
     ]
    }
   ],
   "source": [
    "question = HP.question19\n",
    "start = time.time()\n",
    "result = chain.invoke({\"query\": question, \"context\": vector_qa.invoke(question)})\n",
    "end = time.time()\n",
    "times = (end - start)/60\n",
    "log.LogChat(4, \"Vector_with_graph_as_context\", question, result['result'], times)\n",
    "print(result[\"result\"])\n",
    "print(times)"
   ]
  },
  {
   "cell_type": "code",
   "execution_count": 92,
   "id": "5bad1112-cec9-43e4-a958-1ae410bf16eb",
   "metadata": {},
   "outputs": [
    {
     "name": "stdout",
     "output_type": "stream",
     "text": [
      "The Weasley family has seven children, and the youngest sibling is Ginny Weasley.\n",
      "2.5281138022740683\n"
     ]
    }
   ],
   "source": [
    "question = HP.question20\n",
    "start = time.time()\n",
    "result = chain.invoke({\"query\": question, \"context\": vector_qa.invoke(question)})\n",
    "end = time.time()\n",
    "times = (end - start)/60\n",
    "log.LogChat(4, \"Vector_with_graph_as_context\", question, result['result'], times)\n",
    "print(result[\"result\"])\n",
    "print(times)"
   ]
  },
  {
   "cell_type": "code",
   "execution_count": null,
   "id": "dbe52cf3-143e-4c51-82e5-97bb1b22eb28",
   "metadata": {},
   "outputs": [],
   "source": []
  }
 ],
 "metadata": {
  "kernelspec": {
   "display_name": "Python 3 (ipykernel)",
   "language": "python",
   "name": "python3"
  },
  "language_info": {
   "codemirror_mode": {
    "name": "ipython",
    "version": 3
   },
   "file_extension": ".py",
   "mimetype": "text/x-python",
   "name": "python",
   "nbconvert_exporter": "python",
   "pygments_lexer": "ipython3",
   "version": "3.11.5"
  }
 },
 "nbformat": 4,
 "nbformat_minor": 5
}
